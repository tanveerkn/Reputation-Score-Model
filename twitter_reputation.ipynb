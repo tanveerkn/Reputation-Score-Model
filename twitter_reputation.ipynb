{
  "nbformat": 4,
  "nbformat_minor": 0,
  "metadata": {
    "colab": {
      "name": "twiteer reputation.ipynb",
      "provenance": [],
      "toc_visible": true,
      "include_colab_link": true
    },
    "kernelspec": {
      "name": "python3",
      "display_name": "Python 3"
    }
  },
  "cells": [
    {
      "cell_type": "markdown",
      "metadata": {
        "id": "view-in-github",
        "colab_type": "text"
      },
      "source": [
        "<a href=\"https://colab.research.google.com/github/tanveerkn/Reputation-Score-Model/blob/master/twiteer_reputation.ipynb\" target=\"_parent\"><img src=\"https://colab.research.google.com/assets/colab-badge.svg\" alt=\"Open In Colab\"/></a>"
      ]
    },
    {
      "cell_type": "code",
      "metadata": {
        "id": "NccjsWaXvbEN",
        "colab_type": "code",
        "outputId": "b2f0eef2-cbd9-4cd9-e767-2c775baf2649",
        "colab": {
          "base_uri": "https://localhost:8080/",
          "height": 35
        }
      },
      "source": [
        "import pandas as pd\n",
        "pd.set_option('display.max_columns', None)\n",
        "from sklearn.model_selection import train_test_split\n",
        "from sklearn.linear_model import LinearRegression\n",
        "import seaborn as sb\n",
        "import matplotlib.pyplot as plt\n",
        "plt.rcParams['axes.grid'] = False\n",
        "from sklearn import metrics\n",
        "from sklearn import linear_model\n",
        "from sklearn.neural_network import MLPRegressor\n",
        "from sklearn.svm import SVR\n",
        "import sys\n",
        "import numpy as np\n",
        "np.set_printoptions(threshold=sys.maxsize)\n",
        "np.set_printoptions(suppress=True)\n",
        "from keras.callbacks import ModelCheckpoint\n",
        "from keras.models import Sequential\n",
        "from keras.layers import Dense, Activation, Flatten\n",
        "from sklearn.model_selection import train_test_split\n",
        "from sklearn.ensemble import RandomForestRegressor\n",
        "from sklearn import preprocessing\n",
        "from sklearn.preprocessing import StandardScaler"
      ],
      "execution_count": 0,
      "outputs": [
        {
          "output_type": "stream",
          "text": [
            "Using TensorFlow backend.\n"
          ],
          "name": "stderr"
        }
      ]
    },
    {
      "cell_type": "code",
      "metadata": {
        "id": "Kf2B6K5DZ6J4",
        "colab_type": "code",
        "colab": {}
      },
      "source": [
        "file=('data_set.csv')\n",
        "features = pd.read_csv(file)\n",
        "# corr = features.corr()\n",
        "# print(\"Correlation of features with the reputation score \\n\")\n",
        "# print (corr['Reputation_score'])\n",
        "features=features.iloc[ : ,2:]\n"
      ],
      "execution_count": 0,
      "outputs": []
    },
    {
      "cell_type": "code",
      "metadata": {
        "id": "YmG6GOqfvI02",
        "colab_type": "code",
        "colab": {}
      },
      "source": [
        "# X=features.iloc[:,:-1]\n",
        "# X=X.clip(features.quantile(0.20), features.quantile(0.80), axis=1)\n",
        "# y=features.iloc[:,-1].values\n",
        "# col = [x for x in list(X) if x not in ['id_str', 'screen_name','Social_reputation', 'like_hindex','retweet_hindex', 'Content_Score', 'Context_score']]\n",
        "# X=X[col].values\n",
        "\n",
        "model = []\n",
        "accuracy = []\n",
        "error= []\n",
        "# X_train, X_test, y_train, y_test = train_test_split(X, y, test_size=0.2, random_state=0)\n",
        "\n",
        "# sc_X=StandardScaler()\n",
        "# X_train=sc_X.fit_transform(X_train)\n",
        "# X_test=sc_X.transform(X_test)\n",
        "\n",
        "# sc_y=StandardScaler()\n",
        "# y_train=y_train.reshape (-1,1)\n",
        "# y_test=y_test.reshape (-1,1)\n",
        "# y_train=sc_y.fit_transform(y_train)\n",
        "# # y_train = y_train.reshape (-1,1)\n",
        "# y_test=sc_y.transform(y_test)\n",
        "# # y_test = y_test.reshape (-1,1)\n",
        "# y_test\n"
      ],
      "execution_count": 0,
      "outputs": []
    },
    {
      "cell_type": "code",
      "metadata": {
        "id": "jk-G95czOwX8",
        "colab_type": "code",
        "colab": {}
      },
      "source": [
        "def make_train_test_set(df, train_test_split_prct, clipping_quantile):\n",
        "    msk = np.random.rand(len(df)) < train_test_split_prct\n",
        "    train_df = df[msk].copy()\n",
        "    \n",
        "    test_df = df[~msk].copy()\n",
        "    \n",
        "\n",
        "    thres = train_df.quantile(clipping_quantile)\n",
        "    # test_qu=train_df.quantile(clipping_quantile)\n",
        "\n",
        "\n",
        "    fet_list = [x for x in list(df) if x not in [\"symbols_ratio\"]]\n",
        "\n",
        "    for col in fet_list:\n",
        "\n",
        "        if col:\n",
        "#           train_df[col] = train_df[col]\n",
        "#           test_df[col] = test_df[col]\n",
        "          train_df[col] = train_df[col] / thres[col]\n",
        "#           print(train_df)\n",
        "          test_df[col] = test_df[col] / thres[col]\n",
        "#           print(test_df)\n",
        "    train_df.iloc[:,:].clip(0,1)\n",
        "    \n",
        "    test_df.iloc[:,:].clip(0,1)\n",
        "    \n",
        "\n",
        "    # , 'statuses_count', 'followers_count', 'listed_count', 'friends_count', 'has_url', 'mention_by_others', 'retweet_ratio', 'liked_ratio', 'orig_content_ratio', 'hashtag_ratio', 'urls_ratio', 'symbols_ratio', 'mentions_ratio']]\n",
        "\n",
        "    cols = [col for col in list(df) if col not in ['Social_reputation','retweet_hindex', 'like_hindex', 'Content_Score', 'Context_score', 'Reputation_score','friends_count']]\n",
        "\n",
        "    y_train = train_df['Reputation_score'].values\n",
        "    # print(y_train)\n",
        "\n",
        "    y_test = test_df['Reputation_score'].values\n",
        "    # print(y_test)\n",
        "    X_train = train_df[cols].values\n",
        "\n",
        "    X_test = test_df[cols].values\n",
        "\n",
        "    return X_train, X_test, y_train, y_test, thres.transpose(), fet_list\n"
      ],
      "execution_count": 0,
      "outputs": []
    },
    {
      "cell_type": "code",
      "metadata": {
        "id": "GliX5cjMFGdD",
        "colab_type": "code",
        "colab": {}
      },
      "source": [
        "X_train, X_test, y_train, y_test, thres, fet_list = make_train_test_set(features, 0.8,1)"
      ],
      "execution_count": 0,
      "outputs": []
    },
    {
      "cell_type": "code",
      "metadata": {
        "id": "iWZc_oq_Agat",
        "colab_type": "code",
        "colab": {}
      },
      "source": [
        "array_2D = X_train[0:]\n",
        "array_2D"
      ],
      "execution_count": 0,
      "outputs": []
    },
    {
      "cell_type": "markdown",
      "metadata": {
        "id": "X7l5KQKtJcxH",
        "colab_type": "text"
      },
      "source": [
        "# Multi Layer Perceptron"
      ]
    },
    {
      "cell_type": "code",
      "metadata": {
        "id": "eE0UuW91Ee7d",
        "colab_type": "code",
        "outputId": "1fcb63ef-b3c9-4c80-a385-fbdc1432a086",
        "colab": {
          "base_uri": "https://localhost:8080/",
          "height": 1000
        }
      },
      "source": [
        "\n",
        "from matplotlib import pyplot\n",
        "svr = MLPRegressor(\n",
        "    hidden_layer_sizes=(50,),  activation='relu', solver='adam', alpha=0.001, batch_size='auto',\n",
        "    learning_rate='constant', learning_rate_init=0.01, power_t=0.5, max_iter=100, shuffle=True,\n",
        "    random_state=9, tol=0.0001, verbose=False, warm_start=False, momentum=0.9, nesterovs_momentum=True,\n",
        "    early_stopping=False, validation_fraction=0.1, beta_1=0.9, beta_2=0.999, epsilon=1e-08)\n",
        "\n",
        "\n",
        "svr_dict  = {\"Linear\":  SVR(kernel='linear', C=100, gamma='auto'),\n",
        "             \"Poly\": SVR(kernel='poly', C=100, gamma='auto', degree=3, epsilon=.1, coef0=1),\n",
        "             \"RBF\": SVR(kernel='rbf', C=100, gamma=0.1, epsilon=.1),\n",
        "             \n",
        "              }\n",
        "\n",
        "# mse_svr_list = []\n",
        "# lets run the experiment multiple times\n",
        "MSE_svr = {}\n",
        "Var_svr = {}\n",
        "MAE_svr={}\n",
        "RMSE={}\n",
        "\n",
        "# #\n",
        "for key in svr_dict.keys():\n",
        "  print(key)\n",
        "  svr = svr_dict[key]\n",
        "  print(svr)\n",
        "  # Train the model using the training sets\n",
        "  history=svr.fit(X_train, y_train)\n",
        "#   print(svr.summary())\n",
        "  y_pred_svr = svr.predict(X_test)\n",
        "  model.append(key)\n",
        "\n",
        "  MSE_svr[key] = metrics.mean_squared_error(y_test, y_pred_svr)\n",
        "  MAE_svr[key]=metrics.mean_absolute_error(y_test, y_pred_svr)\n",
        "  RMSE[key]=np.sqrt(metrics.mean_squared_error(y_test, y_pred_svr))\n",
        "  Var_svr[key] = svr.score(X_test, y_test)\n",
        "  accuracy.append(Var_svr[key])\n",
        "  error.append(MSE_svr[key])\n",
        "  df = pd.DataFrame({'Actual': y_test.flatten(), 'Predicted': y_pred_svr.flatten()})\n",
        "  df1 = df\n",
        "  df1.plot(kind='bar', figsize=(16, 10))\n",
        "#   plt.grid(which='major', linestyle='-', linewidth='0.5', color='green')\n",
        "#   plt.grid(which='minor', linestyle=':', linewidth='0.5', color='black')\n",
        "  plt.ylabel('Error Difference')\n",
        "  plt.xlabel('Number of Test Samples')\n",
        "  plt.title('{}'.format(key))\n",
        "  # plt.scatter(X_test, y_test, color='gray')\n",
        "  # plt.plot(X_test, y_pred_svr, color='red', linewidth=2)\n",
        "  plt.savefig(key+'.png', dpi=300, bbox_inches='tight')\n",
        "  plt.show()\n",
        "  \n",
        "#   pyplot.title('Loss / Mean Squared Error')\n",
        "#   pyplot.plot(history.history['loss'], label='train')\n",
        "#   pyplot.plot(history.history['val_loss'], label='test')\n",
        "#   pyplot.legend()\n",
        "#   pyplot.show()\n",
        "  print('Mean Absolute Error:', metrics.mean_absolute_error(y_test, y_pred_svr))\n",
        "  print('Mean Squared Error:', metrics.mean_squared_error(y_test, y_pred_svr))\n",
        "  print('Root Mean Squared Error:', np.sqrt(metrics.mean_squared_error(y_test, y_pred_svr)))\n",
        "  print(\"Comparision of Models ....\\n\")\n",
        "\n",
        "print(\"\\n Model Name \\t\\t\\t MSE_MLP \\n\")\n",
        "for key in svr_dict.keys():\n",
        "  print(\"{0:20}\\t\\t {1:.5f}\\t\\t{2:.5f}\\n\".format(key, MSE_svr[key],Var_svr[key]))\n"
      ],
      "execution_count": 0,
      "outputs": [
        {
          "output_type": "stream",
          "text": [
            "Linear\n",
            "SVR(C=100, cache_size=200, coef0=0.0, degree=3, epsilon=0.1, gamma='auto',\n",
            "    kernel='linear', max_iter=-1, shrinking=True, tol=0.001, verbose=False)\n"
          ],
          "name": "stdout"
        },
        {
          "output_type": "display_data",
          "data": {
            "image/png": "[encoded data removed]",
            "text/plain": [
              "<Figure size 1152x720 with 1 Axes>"
            ]
          },
          "metadata": {
            "tags": []
          }
        },
        {
          "output_type": "stream",
          "text": [
            "Mean Absolute Error: 0.08225492951384644\n",
            "Mean Squared Error: 0.013838212204896793\n",
            "Root Mean Squared Error: 0.11763593075628208\n",
            "Comparision of Models ....\n",
            "\n",
            "Poly\n",
            "SVR(C=100, cache_size=200, coef0=1, degree=3, epsilon=0.1, gamma='auto',\n",
            "    kernel='poly', max_iter=-1, shrinking=True, tol=0.001, verbose=False)\n"
          ],
          "name": "stdout"
        },
        {
          "output_type": "display_data",
          "data": {
            "image/png": "[encoded data removed]",
            "text/plain": [
              "<Figure size 1152x720 with 1 Axes>"
            ]
          },
          "metadata": {
            "tags": []
          }
        },
        {
          "output_type": "stream",
          "text": [
            "Mean Absolute Error: 0.07603909061946942\n",
            "Mean Squared Error: 0.011533323922512335\n",
            "Root Mean Squared Error: 0.10739331414251231\n",
            "Comparision of Models ....\n",
            "\n",
            "RBF\n",
            "SVR(C=100, cache_size=200, coef0=0.0, degree=3, epsilon=0.1, gamma=0.1,\n",
            "    kernel='rbf', max_iter=-1, shrinking=True, tol=0.001, verbose=False)\n"
          ],
          "name": "stdout"
        },
        {
          "output_type": "display_data",
          "data": {
            "image/png": "[encoded data removed]",
            "text/plain": [
              "<Figure size 1152x720 with 1 Axes>"
            ]
          },
          "metadata": {
            "tags": []
          }
        },
        {
          "output_type": "stream",
          "text": [
            "Mean Absolute Error: 0.07442819454873834\n",
            "Mean Squared Error: 0.012531564070781837\n",
            "Root Mean Squared Error: 0.11194446869221292\n",
            "Comparision of Models ....\n",
            "\n",
            "\n",
            " Model Name \t\t\t MSE_MLP \n",
            "\n",
            "Linear              \t\t 0.01384\t\t0.35427\n",
            "\n",
            "Poly                \t\t 0.01153\t\t0.46182\n",
            "\n",
            "RBF                 \t\t 0.01253\t\t0.41524\n",
            "\n"
          ],
          "name": "stdout"
        }
      ]
    },
    {
      "cell_type": "code",
      "metadata": {
        "id": "Q9VrrRXuAlqI",
        "colab_type": "code",
        "outputId": "baa9a565-e036-4c8d-8cd0-75268640367a",
        "colab": {
          "base_uri": "https://localhost:8080/",
          "height": 35
        }
      },
      "source": [
        "\n",
        "svr_dict['Linear'].predict(X_test[31:35])"
      ],
      "execution_count": 0,
      "outputs": [
        {
          "output_type": "execute_result",
          "data": {
            "text/plain": [
              "array([0.22139976, 0.14531188, 0.09141595, 0.14350696])"
            ]
          },
          "metadata": {
            "tags": []
          },
          "execution_count": 47
        }
      ]
    },
    {
      "cell_type": "code",
      "metadata": {
        "id": "iybsfPWDEa6z",
        "colab_type": "code",
        "outputId": "089998b0-0f82-4e5a-e028-1fc2a42aa606",
        "colab": {
          "base_uri": "https://localhost:8080/",
          "height": 35
        }
      },
      "source": [
        "svr_dict['Poly'].predict(X_test[31:35])"
      ],
      "execution_count": 0,
      "outputs": [
        {
          "output_type": "execute_result",
          "data": {
            "text/plain": [
              "array([0.23653797, 0.17620688, 0.04666737, 0.13806946])"
            ]
          },
          "metadata": {
            "tags": []
          },
          "execution_count": 46
        }
      ]
    },
    {
      "cell_type": "code",
      "metadata": {
        "id": "76Gn0JwZEa_W",
        "colab_type": "code",
        "outputId": "bb36584a-3d61-428b-b369-cda03cf2059d",
        "colab": {
          "base_uri": "https://localhost:8080/",
          "height": 35
        }
      },
      "source": [
        "svr_dict['RBF'].predict(X_test[31:35])"
      ],
      "execution_count": 0,
      "outputs": [
        {
          "output_type": "execute_result",
          "data": {
            "text/plain": [
              "array([0.23953974, 0.17414475, 0.01901402, 0.14090027])"
            ]
          },
          "metadata": {
            "tags": []
          },
          "execution_count": 44
        }
      ]
    },
    {
      "cell_type": "code",
      "metadata": {
        "id": "67VGD5_LA6LU",
        "colab_type": "code",
        "outputId": "493b86d0-99cb-47c5-e344-ba9c5a8b9105",
        "colab": {
          "base_uri": "https://localhost:8080/",
          "height": 35
        }
      },
      "source": [
        "print(y_test[31:35])"
      ],
      "execution_count": 0,
      "outputs": [
        {
          "output_type": "stream",
          "text": [
            "[0.1799668  0.16704444 0.00665629 0.15470278]\n"
          ],
          "name": "stdout"
        }
      ]
    },
    {
      "cell_type": "code",
      "metadata": {
        "id": "IUmbnslG-MG8",
        "colab_type": "code",
        "outputId": "c2bb1c0f-87cd-4fa8-96dc-02cfd8017e10",
        "colab": {
          "base_uri": "https://localhost:8080/",
          "height": 35
        }
      },
      "source": [
        "print(metrics.mean_squared_error(y_test, y_pred_svr))"
      ],
      "execution_count": 0,
      "outputs": [
        {
          "output_type": "stream",
          "text": [
            "0.09268742273934914\n"
          ],
          "name": "stdout"
        }
      ]
    },
    {
      "cell_type": "code",
      "metadata": {
        "id": "Ydya-SLq8_KZ",
        "colab_type": "code",
        "outputId": "91edb771-e0a3-490d-d0ea-8c5023f0aa12",
        "colab": {
          "base_uri": "https://localhost:8080/",
          "height": 1000
        }
      },
      "source": [
        "\n",
        "# ######################Deep Neural network for regressor################\n",

        "#\n",
        "NN_model = Sequential()\n",
        "\n",
        "# Layer: Input  :\n",
        "NN_model.add(Dense(128, kernel_initializer='normal',input_dim = X_train.shape[1], activation='relu'))\n",
        "\n",
        "# Layer: Hidden :\n",
        "NN_model.add(Dense(256, kernel_initializer='normal',activation='relu'))\n",
        "NN_model.add(Dense(256, kernel_initializer='normal',activation='relu'))\n",
        "NN_model.add(Dense(256, kernel_initializer='normal',activation='relu'))\n",
        "\n",
        "# Layer: Output :\n",
        "NN_model.add(Dense(1, kernel_initializer='normal',activation='linear'))\n",
        "\n",
        "# Network Compilation:\n",
        "NN_model.compile(loss='mean_squared_error', optimizer='adam', metrics=['mean_squared_error', 'mean_absolute_error' ])\n",
        "NN_model.summary()\n",
        "\n",
        "\n",
        "########check points####################\n",
        "checkpoint_name = 'Weights-{epoch:03d}--{val_loss:.5f}.hdf5'\n",
        "checkpoint = ModelCheckpoint(checkpoint_name, monitor='val_loss', verbose = 1, save_best_only = True, mode ='auto')\n",
        "callbacks_list = [checkpoint]\n",
        "\n",
        "history=NN_model.fit(X_train, y_train, epochs=200, batch_size=32, validation_data=(X_test,y_test), callbacks=callbacks_list)\n",
        "print(len(NN_model.predict(X_test)))\n",
        "# print(NN_model.history.keys())\n",
        "# \"Loss\"\n",
        "plt.plot(history.history['loss'])\n",
        "plt.plot(history.history['val_loss'])\n",
        "plt.title('Mean Squared Error')\n",
        "plt.ylabel('loss')\n",
        "plt.xlabel('epoch')\n",
        "plt.legend(['train', 'validation'], loc='upper left')\n",
        "plt.savefig('MSEDNN.png', dpi=300, bbox_inches='tight')\n",
        "plt.show()\n",
        "# plt.savefig('mse.png')\n",
        "\n",
        "\n",
        "# ##########MLP regressor#########################\n",
        "\n",
        "\n",
        "\n",
        "\n",
        "############################################################################################"
      ],
      "execution_count": 0,
      "outputs": [
        {
          "output_type": "stream",
          "text": [
            "Model: \"sequential_5\"\n",
            "_________________________________________________________________\n",
            "Layer (type)                 Output Shape              Param #   \n",
            "=================================================================\n",
            "dense_21 (Dense)             (None, 128)               1664      \n",
            "_________________________________________________________________\n",
            "dense_22 (Dense)             (None, 256)               33024     \n",
            "_________________________________________________________________\n",
            "dense_23 (Dense)             (None, 256)               65792     \n",
            "_________________________________________________________________\n",
            "dense_24 (Dense)             (None, 256)               65792     \n",
            "_________________________________________________________________\n",
            "dense_25 (Dense)             (None, 1)                 257       \n",
            "=================================================================\n",
            "Total params: 166,529\n",
            "Trainable params: 166,529\n",
            "Non-trainable params: 0\n",
            "_________________________________________________________________\n",
            "Train on 393 samples, validate on 107 samples\n",
            "Epoch 1/200\n",
            "393/393 [==============================] - 1s 2ms/step - loss: 0.0183 - mean_squared_error: 0.0183 - mean_absolute_error: 0.0972 - val_loss: 0.0216 - val_mean_squared_error: 0.0216 - val_mean_absolute_error: 0.0699\n",
            "\n",
            "Epoch 00001: val_loss improved from inf to 0.02156, saving model to Weights-001--0.02156.hdf5\n",
            "Epoch 2/200\n",
            "393/393 [==============================] - 0s 204us/step - loss: 0.0156 - mean_squared_error: 0.0156 - mean_absolute_error: 0.0761 - val_loss: 0.0193 - val_mean_squared_error: 0.0193 - val_mean_absolute_error: 0.0874\n",
            "\n",
            "Epoch 00002: val_loss improved from 0.02156 to 0.01929, saving model to Weights-002--0.01929.hdf5\n",
            "Epoch 3/200\n",
            "393/393 [==============================] - 0s 189us/step - loss: 0.0131 - mean_squared_error: 0.0131 - mean_absolute_error: 0.0761 - val_loss: 0.0177 - val_mean_squared_error: 0.0177 - val_mean_absolute_error: 0.0838\n",
            "\n",
            "Epoch 00003: val_loss improved from 0.01929 to 0.01771, saving model to Weights-003--0.01771.hdf5\n",
            "Epoch 4/200\n",
            "393/393 [==============================] - 0s 204us/step - loss: 0.0110 - mean_squared_error: 0.0110 - mean_absolute_error: 0.0679 - val_loss: 0.0149 - val_mean_squared_error: 0.0149 - val_mean_absolute_error: 0.0778\n",
            "\n",
            "Epoch 00004: val_loss improved from 0.01771 to 0.01488, saving model to Weights-004--0.01488.hdf5\n",
            "Epoch 5/200\n",
            "393/393 [==============================] - 0s 141us/step - loss: 0.0109 - mean_squared_error: 0.0109 - mean_absolute_error: 0.0707 - val_loss: 0.0124 - val_mean_squared_error: 0.0124 - val_mean_absolute_error: 0.0622\n",
            "\n",
            "Epoch 00005: val_loss improved from 0.01488 to 0.01238, saving model to Weights-005--0.01238.hdf5\n",
            "Epoch 6/200\n",
            "393/393 [==============================] - 0s 139us/step - loss: 0.0113 - mean_squared_error: 0.0113 - mean_absolute_error: 0.0677 - val_loss: 0.0124 - val_mean_squared_error: 0.0124 - val_mean_absolute_error: 0.0609\n",
            "\n",
            "Epoch 00006: val_loss did not improve from 0.01238\n",
            "Epoch 7/200\n",
            "393/393 [==============================] - 0s 152us/step - loss: 0.0112 - mean_squared_error: 0.0112 - mean_absolute_error: 0.0655 - val_loss: 0.0142 - val_mean_squared_error: 0.0142 - val_mean_absolute_error: 0.0790\n",
            "\n",
            "Epoch 00007: val_loss did not improve from 0.01238\n",
            "Epoch 8/200\n",
            "393/393 [==============================] - 0s 150us/step - loss: 0.0083 - mean_squared_error: 0.0083 - mean_absolute_error: 0.0567 - val_loss: 0.0136 - val_mean_squared_error: 0.0136 - val_mean_absolute_error: 0.0674\n",
            "\n",
            "Epoch 00008: val_loss did not improve from 0.01238\n",
            "Epoch 9/200\n",
            "393/393 [==============================] - 0s 157us/step - loss: 0.0073 - mean_squared_error: 0.0073 - mean_absolute_error: 0.0541 - val_loss: 0.0126 - val_mean_squared_error: 0.0126 - val_mean_absolute_error: 0.0580\n",
            "\n",
            "Epoch 00009: val_loss did not improve from 0.01238\n",
            "Epoch 10/200\n",
            "393/393 [==============================] - 0s 151us/step - loss: 0.0069 - mean_squared_error: 0.0069 - mean_absolute_error: 0.0491 - val_loss: 0.0124 - val_mean_squared_error: 0.0124 - val_mean_absolute_error: 0.0587\n",
            "\n",
            "Epoch 00010: val_loss did not improve from 0.01238\n",
            "Epoch 11/200\n",
            "393/393 [==============================] - 0s 143us/step - loss: 0.0066 - mean_squared_error: 0.0066 - mean_absolute_error: 0.0499 - val_loss: 0.0121 - val_mean_squared_error: 0.0121 - val_mean_absolute_error: 0.0578\n",
            "\n",
            "Epoch 00011: val_loss improved from 0.01238 to 0.01213, saving model to Weights-011--0.01213.hdf5\n",
            "Epoch 12/200\n",
            "393/393 [==============================] - 0s 135us/step - loss: 0.0062 - mean_squared_error: 0.0062 - mean_absolute_error: 0.0471 - val_loss: 0.0130 - val_mean_squared_error: 0.0130 - val_mean_absolute_error: 0.0638\n",
            "\n",
            "Epoch 00012: val_loss did not improve from 0.01213\n",
            "Epoch 13/200\n",
            "393/393 [==============================] - 0s 134us/step - loss: 0.0060 - mean_squared_error: 0.0060 - mean_absolute_error: 0.0478 - val_loss: 0.0121 - val_mean_squared_error: 0.0121 - val_mean_absolute_error: 0.0573\n",
            "\n",
            "Epoch 00013: val_loss did not improve from 0.01213\n",
            "Epoch 14/200\n",
            "393/393 [==============================] - 0s 143us/step - loss: 0.0062 - mean_squared_error: 0.0062 - mean_absolute_error: 0.0483 - val_loss: 0.0118 - val_mean_squared_error: 0.0118 - val_mean_absolute_error: 0.0581\n",
            "\n",
            "Epoch 00014: val_loss improved from 0.01213 to 0.01181, saving model to Weights-014--0.01181.hdf5\n",
            "Epoch 15/200\n",
            "393/393 [==============================] - 0s 144us/step - loss: 0.0059 - mean_squared_error: 0.0059 - mean_absolute_error: 0.0479 - val_loss: 0.0128 - val_mean_squared_error: 0.0128 - val_mean_absolute_error: 0.0616\n",
            "\n",
            "Epoch 00015: val_loss did not improve from 0.01181\n",
            "Epoch 16/200\n",
            "393/393 [==============================] - 0s 142us/step - loss: 0.0067 - mean_squared_error: 0.0067 - mean_absolute_error: 0.0528 - val_loss: 0.0119 - val_mean_squared_error: 0.0119 - val_mean_absolute_error: 0.0586\n",
            "\n",
            "Epoch 00016: val_loss did not improve from 0.01181\n",
            "Epoch 17/200\n",
            "393/393 [==============================] - 0s 139us/step - loss: 0.0068 - mean_squared_error: 0.0068 - mean_absolute_error: 0.0498 - val_loss: 0.0125 - val_mean_squared_error: 0.0125 - val_mean_absolute_error: 0.0586\n",
            "\n",
            "Epoch 00017: val_loss did not improve from 0.01181\n",
            "Epoch 18/200\n",
            "393/393 [==============================] - 0s 150us/step - loss: 0.0066 - mean_squared_error: 0.0066 - mean_absolute_error: 0.0486 - val_loss: 0.0126 - val_mean_squared_error: 0.0126 - val_mean_absolute_error: 0.0586\n",
            "\n",
            "Epoch 00018: val_loss did not improve from 0.01181\n",
            "Epoch 19/200\n",
            "393/393 [==============================] - 0s 192us/step - loss: 0.0073 - mean_squared_error: 0.0073 - mean_absolute_error: 0.0508 - val_loss: 0.0117 - val_mean_squared_error: 0.0117 - val_mean_absolute_error: 0.0573\n",
            "\n",
            "Epoch 00019: val_loss improved from 0.01181 to 0.01173, saving model to Weights-019--0.01173.hdf5\n",
            "Epoch 20/200\n",
            "393/393 [==============================] - 0s 213us/step - loss: 0.0057 - mean_squared_error: 0.0057 - mean_absolute_error: 0.0458 - val_loss: 0.0136 - val_mean_squared_error: 0.0136 - val_mean_absolute_error: 0.0719\n",
            "\n",
            "Epoch 00020: val_loss did not improve from 0.01173\n",
            "Epoch 21/200\n",
            "393/393 [==============================] - 0s 211us/step - loss: 0.0059 - mean_squared_error: 0.0059 - mean_absolute_error: 0.0478 - val_loss: 0.0136 - val_mean_squared_error: 0.0136 - val_mean_absolute_error: 0.0689\n",
            "\n",
            "Epoch 00021: val_loss did not improve from 0.01173\n",
            "Epoch 22/200\n",
            "393/393 [==============================] - 0s 203us/step - loss: 0.0056 - mean_squared_error: 0.0056 - mean_absolute_error: 0.0456 - val_loss: 0.0118 - val_mean_squared_error: 0.0118 - val_mean_absolute_error: 0.0615\n",
            "\n",
            "Epoch 00022: val_loss did not improve from 0.01173\n",
            "Epoch 23/200\n",
            "393/393 [==============================] - 0s 227us/step - loss: 0.0053 - mean_squared_error: 0.0053 - mean_absolute_error: 0.0427 - val_loss: 0.0119 - val_mean_squared_error: 0.0119 - val_mean_absolute_error: 0.0578\n",
            "\n",
            "Epoch 00023: val_loss did not improve from 0.01173\n",
            "Epoch 24/200\n",
            "393/393 [==============================] - 0s 212us/step - loss: 0.0055 - mean_squared_error: 0.0055 - mean_absolute_error: 0.0453 - val_loss: 0.0117 - val_mean_squared_error: 0.0117 - val_mean_absolute_error: 0.0611\n",
            "\n",
            "Epoch 00024: val_loss improved from 0.01173 to 0.01168, saving model to Weights-024--0.01168.hdf5\n",
            "Epoch 25/200\n",
            "393/393 [==============================] - 0s 201us/step - loss: 0.0049 - mean_squared_error: 0.0049 - mean_absolute_error: 0.0415 - val_loss: 0.0114 - val_mean_squared_error: 0.0114 - val_mean_absolute_error: 0.0612\n",
            "\n",
            "Epoch 00025: val_loss improved from 0.01168 to 0.01143, saving model to Weights-025--0.01143.hdf5\n",
            "Epoch 26/200\n",
            "393/393 [==============================] - 0s 191us/step - loss: 0.0047 - mean_squared_error: 0.0047 - mean_absolute_error: 0.0420 - val_loss: 0.0113 - val_mean_squared_error: 0.0113 - val_mean_absolute_error: 0.0574\n",
            "\n",
            "Epoch 00026: val_loss improved from 0.01143 to 0.01126, saving model to Weights-026--0.01126.hdf5\n",
            "Epoch 27/200\n",
            "393/393 [==============================] - 0s 191us/step - loss: 0.0052 - mean_squared_error: 0.0052 - mean_absolute_error: 0.0421 - val_loss: 0.0132 - val_mean_squared_error: 0.0132 - val_mean_absolute_error: 0.0644\n",
            "\n",
            "Epoch 00027: val_loss did not improve from 0.01126\n",
            "Epoch 28/200\n",
            "393/393 [==============================] - 0s 191us/step - loss: 0.0049 - mean_squared_error: 0.0049 - mean_absolute_error: 0.0419 - val_loss: 0.0124 - val_mean_squared_error: 0.0124 - val_mean_absolute_error: 0.0670\n",
            "\n",
            "Epoch 00028: val_loss did not improve from 0.01126\n",
            "Epoch 29/200\n",
            "393/393 [==============================] - 0s 212us/step - loss: 0.0049 - mean_squared_error: 0.0049 - mean_absolute_error: 0.0420 - val_loss: 0.0143 - val_mean_squared_error: 0.0143 - val_mean_absolute_error: 0.0739\n",
            "\n",
            "Epoch 00029: val_loss did not improve from 0.01126\n",
            "Epoch 30/200\n",
            "393/393 [==============================] - 0s 135us/step - loss: 0.0050 - mean_squared_error: 0.0050 - mean_absolute_error: 0.0408 - val_loss: 0.0119 - val_mean_squared_error: 0.0119 - val_mean_absolute_error: 0.0666\n",
            "\n",
            "Epoch 00030: val_loss did not improve from 0.01126\n",
            "Epoch 31/200\n",
            "393/393 [==============================] - 0s 132us/step - loss: 0.0050 - mean_squared_error: 0.0050 - mean_absolute_error: 0.0428 - val_loss: 0.0112 - val_mean_squared_error: 0.0112 - val_mean_absolute_error: 0.0625\n",
            "\n",
            "Epoch 00031: val_loss improved from 0.01126 to 0.01124, saving model to Weights-031--0.01124.hdf5\n",
            "Epoch 32/200\n",
            "393/393 [==============================] - 0s 131us/step - loss: 0.0048 - mean_squared_error: 0.0048 - mean_absolute_error: 0.0405 - val_loss: 0.0110 - val_mean_squared_error: 0.0110 - val_mean_absolute_error: 0.0562\n",
            "\n",
            "Epoch 00032: val_loss improved from 0.01124 to 0.01100, saving model to Weights-032--0.01100.hdf5\n",
            "Epoch 33/200\n",
            "393/393 [==============================] - 0s 129us/step - loss: 0.0048 - mean_squared_error: 0.0048 - mean_absolute_error: 0.0421 - val_loss: 0.0108 - val_mean_squared_error: 0.0108 - val_mean_absolute_error: 0.0597\n",
            "\n",
            "Epoch 00033: val_loss improved from 0.01100 to 0.01076, saving model to Weights-033--0.01076.hdf5\n",
            "Epoch 34/200\n",
            "393/393 [==============================] - 0s 140us/step - loss: 0.0049 - mean_squared_error: 0.0049 - mean_absolute_error: 0.0437 - val_loss: 0.0120 - val_mean_squared_error: 0.0120 - val_mean_absolute_error: 0.0649\n",
            "\n",
            "Epoch 00034: val_loss did not improve from 0.01076\n",
            "Epoch 35/200\n",
            "393/393 [==============================] - 0s 134us/step - loss: 0.0047 - mean_squared_error: 0.0047 - mean_absolute_error: 0.0411 - val_loss: 0.0113 - val_mean_squared_error: 0.0113 - val_mean_absolute_error: 0.0629\n",
            "\n",
            "Epoch 00035: val_loss did not improve from 0.01076\n",
            "Epoch 36/200\n",
            "393/393 [==============================] - 0s 158us/step - loss: 0.0046 - mean_squared_error: 0.0046 - mean_absolute_error: 0.0407 - val_loss: 0.0107 - val_mean_squared_error: 0.0107 - val_mean_absolute_error: 0.0571\n",
            "\n",
            "Epoch 00036: val_loss improved from 0.01076 to 0.01074, saving model to Weights-036--0.01074.hdf5\n",
            "Epoch 37/200\n",
            "393/393 [==============================] - 0s 206us/step - loss: 0.0046 - mean_squared_error: 0.0046 - mean_absolute_error: 0.0403 - val_loss: 0.0106 - val_mean_squared_error: 0.0106 - val_mean_absolute_error: 0.0567\n",
            "\n",
            "Epoch 00037: val_loss improved from 0.01074 to 0.01056, saving model to Weights-037--0.01056.hdf5\n",
            "Epoch 38/200\n",
            "393/393 [==============================] - 0s 137us/step - loss: 0.0050 - mean_squared_error: 0.0050 - mean_absolute_error: 0.0426 - val_loss: 0.0115 - val_mean_squared_error: 0.0115 - val_mean_absolute_error: 0.0576\n",
            "\n",
            "Epoch 00038: val_loss did not improve from 0.01056\n",
            "Epoch 39/200\n",
            "393/393 [==============================] - 0s 139us/step - loss: 0.0059 - mean_squared_error: 0.0059 - mean_absolute_error: 0.0484 - val_loss: 0.0112 - val_mean_squared_error: 0.0112 - val_mean_absolute_error: 0.0565\n",
            "\n",
            "Epoch 00039: val_loss did not improve from 0.01056\n",
            "Epoch 40/200\n",
            "393/393 [==============================] - 0s 149us/step - loss: 0.0050 - mean_squared_error: 0.0050 - mean_absolute_error: 0.0421 - val_loss: 0.0110 - val_mean_squared_error: 0.0110 - val_mean_absolute_error: 0.0562\n",
            "\n",
            "Epoch 00040: val_loss did not improve from 0.01056\n",
            "Epoch 41/200\n",
            "393/393 [==============================] - 0s 136us/step - loss: 0.0046 - mean_squared_error: 0.0046 - mean_absolute_error: 0.0399 - val_loss: 0.0105 - val_mean_squared_error: 0.0105 - val_mean_absolute_error: 0.0573\n",
            "\n",
            "Epoch 00041: val_loss improved from 0.01056 to 0.01047, saving model to Weights-041--0.01047.hdf5\n",
            "Epoch 42/200\n",
            "393/393 [==============================] - 0s 151us/step - loss: 0.0043 - mean_squared_error: 0.0043 - mean_absolute_error: 0.0396 - val_loss: 0.0111 - val_mean_squared_error: 0.0111 - val_mean_absolute_error: 0.0569\n",
            "\n",
            "Epoch 00042: val_loss did not improve from 0.01047\n",
            "Epoch 43/200\n",
            "393/393 [==============================] - 0s 212us/step - loss: 0.0046 - mean_squared_error: 0.0046 - mean_absolute_error: 0.0387 - val_loss: 0.0102 - val_mean_squared_error: 0.0102 - val_mean_absolute_error: 0.0574\n",
            "\n",
            "Epoch 00043: val_loss improved from 0.01047 to 0.01024, saving model to Weights-043--0.01024.hdf5\n",
            "Epoch 44/200\n",
            "393/393 [==============================] - 0s 185us/step - loss: 0.0046 - mean_squared_error: 0.0046 - mean_absolute_error: 0.0402 - val_loss: 0.0101 - val_mean_squared_error: 0.0101 - val_mean_absolute_error: 0.0553\n",
            "\n",
            "Epoch 00044: val_loss improved from 0.01024 to 0.01010, saving model to Weights-044--0.01010.hdf5\n",
            "Epoch 45/200\n",
            "393/393 [==============================] - 0s 192us/step - loss: 0.0046 - mean_squared_error: 0.0046 - mean_absolute_error: 0.0405 - val_loss: 0.0125 - val_mean_squared_error: 0.0125 - val_mean_absolute_error: 0.0598\n",
            "\n",
            "Epoch 00045: val_loss did not improve from 0.01010\n",
            "Epoch 46/200\n",
            "393/393 [==============================] - 0s 172us/step - loss: 0.0057 - mean_squared_error: 0.0057 - mean_absolute_error: 0.0461 - val_loss: 0.0104 - val_mean_squared_error: 0.0104 - val_mean_absolute_error: 0.0546\n",
            "\n",
            "Epoch 00046: val_loss did not improve from 0.01010\n",
            "Epoch 47/200\n",
            "393/393 [==============================] - 0s 201us/step - loss: 0.0044 - mean_squared_error: 0.0044 - mean_absolute_error: 0.0397 - val_loss: 0.0111 - val_mean_squared_error: 0.0111 - val_mean_absolute_error: 0.0604\n",
            "\n",
            "Epoch 00047: val_loss did not improve from 0.01010\n",
            "Epoch 48/200\n",
            "393/393 [==============================] - 0s 209us/step - loss: 0.0045 - mean_squared_error: 0.0045 - mean_absolute_error: 0.0393 - val_loss: 0.0103 - val_mean_squared_error: 0.0103 - val_mean_absolute_error: 0.0579\n",
            "\n",
            "Epoch 00048: val_loss did not improve from 0.01010\n",
            "Epoch 49/200\n",
            "393/393 [==============================] - 0s 191us/step - loss: 0.0044 - mean_squared_error: 0.0044 - mean_absolute_error: 0.0380 - val_loss: 0.0103 - val_mean_squared_error: 0.0103 - val_mean_absolute_error: 0.0561\n",
            "\n",
            "Epoch 00049: val_loss did not improve from 0.01010\n",
            "Epoch 50/200\n",
            "393/393 [==============================] - 0s 220us/step - loss: 0.0051 - mean_squared_error: 0.0051 - mean_absolute_error: 0.0437 - val_loss: 0.0111 - val_mean_squared_error: 0.0111 - val_mean_absolute_error: 0.0556\n",
            "\n",
            "Epoch 00050: val_loss did not improve from 0.01010\n",
            "Epoch 51/200\n",
            "393/393 [==============================] - 0s 194us/step - loss: 0.0055 - mean_squared_error: 0.0055 - mean_absolute_error: 0.0453 - val_loss: 0.0100 - val_mean_squared_error: 0.0100 - val_mean_absolute_error: 0.0553\n",
            "\n",
            "Epoch 00051: val_loss improved from 0.01010 to 0.00998, saving model to Weights-051--0.00998.hdf5\n",
            "Epoch 52/200\n",
            "393/393 [==============================] - 0s 206us/step - loss: 0.0043 - mean_squared_error: 0.0043 - mean_absolute_error: 0.0387 - val_loss: 0.0154 - val_mean_squared_error: 0.0154 - val_mean_absolute_error: 0.0781\n",
            "\n",
            "Epoch 00052: val_loss did not improve from 0.00998\n",
            "Epoch 53/200\n",
            "393/393 [==============================] - 0s 189us/step - loss: 0.0051 - mean_squared_error: 0.0051 - mean_absolute_error: 0.0418 - val_loss: 0.0116 - val_mean_squared_error: 0.0116 - val_mean_absolute_error: 0.0661\n",
            "\n",
            "Epoch 00053: val_loss did not improve from 0.00998\n",
            "Epoch 54/200\n",
            "393/393 [==============================] - 0s 138us/step - loss: 0.0043 - mean_squared_error: 0.0043 - mean_absolute_error: 0.0382 - val_loss: 0.0113 - val_mean_squared_error: 0.0113 - val_mean_absolute_error: 0.0628\n",
            "\n",
            "Epoch 00054: val_loss did not improve from 0.00998\n",
            "Epoch 55/200\n",
            "393/393 [==============================] - 0s 149us/step - loss: 0.0047 - mean_squared_error: 0.0047 - mean_absolute_error: 0.0420 - val_loss: 0.0117 - val_mean_squared_error: 0.0117 - val_mean_absolute_error: 0.0642\n",
            "\n",
            "Epoch 00055: val_loss did not improve from 0.00998\n",
            "Epoch 56/200\n",
            "393/393 [==============================] - 0s 132us/step - loss: 0.0043 - mean_squared_error: 0.0043 - mean_absolute_error: 0.0392 - val_loss: 0.0101 - val_mean_squared_error: 0.0101 - val_mean_absolute_error: 0.0538\n",
            "\n",
            "Epoch 00056: val_loss did not improve from 0.00998\n",
            "Epoch 57/200\n",
            "393/393 [==============================] - 0s 130us/step - loss: 0.0043 - mean_squared_error: 0.0043 - mean_absolute_error: 0.0386 - val_loss: 0.0105 - val_mean_squared_error: 0.0105 - val_mean_absolute_error: 0.0540\n",
            "\n",
            "Epoch 00057: val_loss did not improve from 0.00998\n",
            "Epoch 58/200\n",
            "393/393 [==============================] - 0s 133us/step - loss: 0.0045 - mean_squared_error: 0.0045 - mean_absolute_error: 0.0427 - val_loss: 0.0105 - val_mean_squared_error: 0.0105 - val_mean_absolute_error: 0.0598\n",
            "\n",
            "Epoch 00058: val_loss did not improve from 0.00998\n",
            "Epoch 59/200\n",
            "393/393 [==============================] - 0s 151us/step - loss: 0.0049 - mean_squared_error: 0.0049 - mean_absolute_error: 0.0421 - val_loss: 0.0095 - val_mean_squared_error: 0.0095 - val_mean_absolute_error: 0.0590\n",
            "\n",
            "Epoch 00059: val_loss improved from 0.00998 to 0.00955, saving model to Weights-059--0.00955.hdf5\n",
            "Epoch 60/200\n",
            "393/393 [==============================] - 0s 134us/step - loss: 0.0049 - mean_squared_error: 0.0049 - mean_absolute_error: 0.0441 - val_loss: 0.0099 - val_mean_squared_error: 0.0099 - val_mean_absolute_error: 0.0543\n",
            "\n",
            "Epoch 00060: val_loss did not improve from 0.00955\n",
            "Epoch 61/200\n",
            "393/393 [==============================] - 0s 140us/step - loss: 0.0043 - mean_squared_error: 0.0043 - mean_absolute_error: 0.0391 - val_loss: 0.0101 - val_mean_squared_error: 0.0101 - val_mean_absolute_error: 0.0534\n",
            "\n",
            "Epoch 00061: val_loss did not improve from 0.00955\n",
            "Epoch 62/200\n",
            "393/393 [==============================] - 0s 142us/step - loss: 0.0044 - mean_squared_error: 0.0044 - mean_absolute_error: 0.0378 - val_loss: 0.0100 - val_mean_squared_error: 0.0100 - val_mean_absolute_error: 0.0565\n",
            "\n",
            "Epoch 00062: val_loss did not improve from 0.00955\n",
            "Epoch 63/200\n",
            "393/393 [==============================] - 0s 144us/step - loss: 0.0040 - mean_squared_error: 0.0040 - mean_absolute_error: 0.0372 - val_loss: 0.0103 - val_mean_squared_error: 0.0103 - val_mean_absolute_error: 0.0585\n",
            "\n",
            "Epoch 00063: val_loss did not improve from 0.00955\n",
            "Epoch 64/200\n",
            "393/393 [==============================] - 0s 133us/step - loss: 0.0038 - mean_squared_error: 0.0038 - mean_absolute_error: 0.0358 - val_loss: 0.0103 - val_mean_squared_error: 0.0103 - val_mean_absolute_error: 0.0584\n",
            "\n",
            "Epoch 00064: val_loss did not improve from 0.00955\n",
            "Epoch 65/200\n",
            "393/393 [==============================] - 0s 150us/step - loss: 0.0041 - mean_squared_error: 0.0041 - mean_absolute_error: 0.0368 - val_loss: 0.0100 - val_mean_squared_error: 0.0100 - val_mean_absolute_error: 0.0593\n",
            "\n",
            "Epoch 00065: val_loss did not improve from 0.00955\n",
            "Epoch 66/200\n",
            "393/393 [==============================] - 0s 138us/step - loss: 0.0039 - mean_squared_error: 0.0039 - mean_absolute_error: 0.0365 - val_loss: 0.0097 - val_mean_squared_error: 0.0097 - val_mean_absolute_error: 0.0543\n",
            "\n",
            "Epoch 00066: val_loss did not improve from 0.00955\n",
            "Epoch 67/200\n",
            "393/393 [==============================] - 0s 139us/step - loss: 0.0038 - mean_squared_error: 0.0038 - mean_absolute_error: 0.0360 - val_loss: 0.0106 - val_mean_squared_error: 0.0106 - val_mean_absolute_error: 0.0600\n",
            "\n",
            "Epoch 00067: val_loss did not improve from 0.00955\n",
            "Epoch 68/200\n",
            "393/393 [==============================] - 0s 139us/step - loss: 0.0049 - mean_squared_error: 0.0049 - mean_absolute_error: 0.0408 - val_loss: 0.0099 - val_mean_squared_error: 0.0099 - val_mean_absolute_error: 0.0599\n",
            "\n",
            "Epoch 00068: val_loss did not improve from 0.00955\n",
            "Epoch 69/200\n",
            "393/393 [==============================] - 0s 146us/step - loss: 0.0041 - mean_squared_error: 0.0041 - mean_absolute_error: 0.0400 - val_loss: 0.0095 - val_mean_squared_error: 0.0095 - val_mean_absolute_error: 0.0522\n",
            "\n",
            "Epoch 00069: val_loss improved from 0.00955 to 0.00950, saving model to Weights-069--0.00950.hdf5\n",
            "Epoch 70/200\n",
            "393/393 [==============================] - 0s 135us/step - loss: 0.0045 - mean_squared_error: 0.0045 - mean_absolute_error: 0.0393 - val_loss: 0.0095 - val_mean_squared_error: 0.0095 - val_mean_absolute_error: 0.0544\n",
            "\n",
            "Epoch 00070: val_loss did not improve from 0.00950\n",
            "Epoch 71/200\n",
            "393/393 [==============================] - 0s 144us/step - loss: 0.0047 - mean_squared_error: 0.0047 - mean_absolute_error: 0.0407 - val_loss: 0.0101 - val_mean_squared_error: 0.0101 - val_mean_absolute_error: 0.0577\n",
            "\n",
            "Epoch 00071: val_loss did not improve from 0.00950\n",
            "Epoch 72/200\n",
            "393/393 [==============================] - 0s 142us/step - loss: 0.0057 - mean_squared_error: 0.0057 - mean_absolute_error: 0.0447 - val_loss: 0.0098 - val_mean_squared_error: 0.0098 - val_mean_absolute_error: 0.0539\n",
            "\n",
            "Epoch 00072: val_loss did not improve from 0.00950\n",
            "Epoch 73/200\n",
            "393/393 [==============================] - 0s 154us/step - loss: 0.0048 - mean_squared_error: 0.0048 - mean_absolute_error: 0.0451 - val_loss: 0.0093 - val_mean_squared_error: 0.0093 - val_mean_absolute_error: 0.0541\n",
            "\n",
            "Epoch 00073: val_loss improved from 0.00950 to 0.00933, saving model to Weights-073--0.00933.hdf5\n",
            "Epoch 74/200\n",
            "393/393 [==============================] - 0s 136us/step - loss: 0.0040 - mean_squared_error: 0.0040 - mean_absolute_error: 0.0367 - val_loss: 0.0095 - val_mean_squared_error: 0.0095 - val_mean_absolute_error: 0.0553\n",
            "\n",
            "Epoch 00074: val_loss did not improve from 0.00933\n",
            "Epoch 75/200\n",
            "393/393 [==============================] - 0s 147us/step - loss: 0.0040 - mean_squared_error: 0.0040 - mean_absolute_error: 0.0379 - val_loss: 0.0096 - val_mean_squared_error: 0.0096 - val_mean_absolute_error: 0.0536\n",
            "\n",
            "Epoch 00075: val_loss did not improve from 0.00933\n",
            "Epoch 76/200\n",
            "393/393 [==============================] - 0s 136us/step - loss: 0.0038 - mean_squared_error: 0.0038 - mean_absolute_error: 0.0357 - val_loss: 0.0098 - val_mean_squared_error: 0.0098 - val_mean_absolute_error: 0.0569\n",
            "\n",
            "Epoch 00076: val_loss did not improve from 0.00933\n",
            "Epoch 77/200\n",
            "393/393 [==============================] - 0s 139us/step - loss: 0.0040 - mean_squared_error: 0.0040 - mean_absolute_error: 0.0366 - val_loss: 0.0094 - val_mean_squared_error: 0.0094 - val_mean_absolute_error: 0.0541\n",
            "\n",
            "Epoch 00077: val_loss did not improve from 0.00933\n",
            "Epoch 78/200\n",
            "393/393 [==============================] - 0s 145us/step - loss: 0.0037 - mean_squared_error: 0.0037 - mean_absolute_error: 0.0351 - val_loss: 0.0094 - val_mean_squared_error: 0.0094 - val_mean_absolute_error: 0.0544\n",
            "\n",
            "Epoch 00078: val_loss did not improve from 0.00933\n",
            "Epoch 79/200\n",
            "393/393 [==============================] - 0s 158us/step - loss: 0.0040 - mean_squared_error: 0.0040 - mean_absolute_error: 0.0370 - val_loss: 0.0104 - val_mean_squared_error: 0.0104 - val_mean_absolute_error: 0.0541\n",
            "\n",
            "Epoch 00079: val_loss did not improve from 0.00933\n",
            "Epoch 80/200\n",
            "393/393 [==============================] - 0s 148us/step - loss: 0.0045 - mean_squared_error: 0.0045 - mean_absolute_error: 0.0391 - val_loss: 0.0095 - val_mean_squared_error: 0.0095 - val_mean_absolute_error: 0.0524\n",
            "\n",
            "Epoch 00080: val_loss did not improve from 0.00933\n",
            "Epoch 81/200\n",
            "393/393 [==============================] - 0s 142us/step - loss: 0.0040 - mean_squared_error: 0.0040 - mean_absolute_error: 0.0371 - val_loss: 0.0098 - val_mean_squared_error: 0.0098 - val_mean_absolute_error: 0.0531\n",
            "\n",
            "Epoch 00081: val_loss did not improve from 0.00933\n",
            "Epoch 82/200\n",
            "393/393 [==============================] - 0s 158us/step - loss: 0.0042 - mean_squared_error: 0.0042 - mean_absolute_error: 0.0404 - val_loss: 0.0095 - val_mean_squared_error: 0.0095 - val_mean_absolute_error: 0.0533\n",
            "\n",
            "Epoch 00082: val_loss did not improve from 0.00933\n",
            "Epoch 83/200\n",
            "393/393 [==============================] - 0s 143us/step - loss: 0.0038 - mean_squared_error: 0.0038 - mean_absolute_error: 0.0347 - val_loss: 0.0094 - val_mean_squared_error: 0.0094 - val_mean_absolute_error: 0.0542\n",
            "\n",
            "Epoch 00083: val_loss did not improve from 0.00933\n",
            "Epoch 84/200\n",
            "393/393 [==============================] - 0s 139us/step - loss: 0.0040 - mean_squared_error: 0.0040 - mean_absolute_error: 0.0388 - val_loss: 0.0096 - val_mean_squared_error: 0.0096 - val_mean_absolute_error: 0.0539\n",
            "\n",
            "Epoch 00084: val_loss did not improve from 0.00933\n",
            "Epoch 85/200\n",
            "393/393 [==============================] - 0s 138us/step - loss: 0.0037 - mean_squared_error: 0.0037 - mean_absolute_error: 0.0348 - val_loss: 0.0091 - val_mean_squared_error: 0.0091 - val_mean_absolute_error: 0.0541\n",
            "\n",
            "Epoch 00085: val_loss improved from 0.00933 to 0.00914, saving model to Weights-085--0.00914.hdf5\n",
            "Epoch 86/200\n",
            "393/393 [==============================] - 0s 147us/step - loss: 0.0039 - mean_squared_error: 0.0039 - mean_absolute_error: 0.0369 - val_loss: 0.0094 - val_mean_squared_error: 0.0094 - val_mean_absolute_error: 0.0525\n",
            "\n",
            "Epoch 00086: val_loss did not improve from 0.00914\n",
            "Epoch 87/200\n",
            "393/393 [==============================] - 0s 141us/step - loss: 0.0039 - mean_squared_error: 0.0039 - mean_absolute_error: 0.0366 - val_loss: 0.0091 - val_mean_squared_error: 0.0091 - val_mean_absolute_error: 0.0533\n",
            "\n",
            "Epoch 00087: val_loss improved from 0.00914 to 0.00911, saving model to Weights-087--0.00911.hdf5\n",
            "Epoch 88/200\n",
            "393/393 [==============================] - 0s 146us/step - loss: 0.0039 - mean_squared_error: 0.0039 - mean_absolute_error: 0.0368 - val_loss: 0.0097 - val_mean_squared_error: 0.0097 - val_mean_absolute_error: 0.0529\n",
            "\n",
            "Epoch 00088: val_loss did not improve from 0.00911\n",
            "Epoch 89/200\n",
            "393/393 [==============================] - 0s 143us/step - loss: 0.0037 - mean_squared_error: 0.0037 - mean_absolute_error: 0.0354 - val_loss: 0.0094 - val_mean_squared_error: 0.0094 - val_mean_absolute_error: 0.0514\n",
            "\n",
            "Epoch 00089: val_loss did not improve from 0.00911\n",
            "Epoch 90/200\n",
            "393/393 [==============================] - 0s 141us/step - loss: 0.0039 - mean_squared_error: 0.0039 - mean_absolute_error: 0.0359 - val_loss: 0.0092 - val_mean_squared_error: 0.0092 - val_mean_absolute_error: 0.0534\n",
            "\n",
            "Epoch 00090: val_loss did not improve from 0.00911\n",
            "Epoch 91/200\n",
            "393/393 [==============================] - 0s 139us/step - loss: 0.0036 - mean_squared_error: 0.0036 - mean_absolute_error: 0.0345 - val_loss: 0.0092 - val_mean_squared_error: 0.0092 - val_mean_absolute_error: 0.0521\n",
            "\n",
            "Epoch 00091: val_loss did not improve from 0.00911\n",
            "Epoch 92/200\n",
            "393/393 [==============================] - 0s 150us/step - loss: 0.0046 - mean_squared_error: 0.0046 - mean_absolute_error: 0.0396 - val_loss: 0.0097 - val_mean_squared_error: 0.0097 - val_mean_absolute_error: 0.0594\n",
            "\n",
            "Epoch 00092: val_loss did not improve from 0.00911\n",
            "Epoch 93/200\n",
            "393/393 [==============================] - 0s 139us/step - loss: 0.0045 - mean_squared_error: 0.0045 - mean_absolute_error: 0.0418 - val_loss: 0.0093 - val_mean_squared_error: 0.0093 - val_mean_absolute_error: 0.0528\n",
            "\n",
            "Epoch 00093: val_loss did not improve from 0.00911\n",
            "Epoch 94/200\n",
            "393/393 [==============================] - 0s 140us/step - loss: 0.0034 - mean_squared_error: 0.0034 - mean_absolute_error: 0.0355 - val_loss: 0.0100 - val_mean_squared_error: 0.0100 - val_mean_absolute_error: 0.0523\n",
            "\n",
            "Epoch 00094: val_loss did not improve from 0.00911\n",
            "Epoch 95/200\n",
            "393/393 [==============================] - 0s 137us/step - loss: 0.0039 - mean_squared_error: 0.0039 - mean_absolute_error: 0.0378 - val_loss: 0.0100 - val_mean_squared_error: 0.0100 - val_mean_absolute_error: 0.0539\n",
            "\n",
            "Epoch 00095: val_loss did not improve from 0.00911\n",
            "Epoch 96/200\n",
            "393/393 [==============================] - 0s 170us/step - loss: 0.0043 - mean_squared_error: 0.0043 - mean_absolute_error: 0.0395 - val_loss: 0.0089 - val_mean_squared_error: 0.0089 - val_mean_absolute_error: 0.0525\n",
            "\n",
            "Epoch 00096: val_loss improved from 0.00911 to 0.00894, saving model to Weights-096--0.00894.hdf5\n",
            "Epoch 97/200\n",
            "393/393 [==============================] - 0s 155us/step - loss: 0.0035 - mean_squared_error: 0.0035 - mean_absolute_error: 0.0346 - val_loss: 0.0091 - val_mean_squared_error: 0.0091 - val_mean_absolute_error: 0.0542\n",
            "\n",
            "Epoch 00097: val_loss did not improve from 0.00894\n",
            "Epoch 98/200\n",
            "393/393 [==============================] - 0s 164us/step - loss: 0.0035 - mean_squared_error: 0.0035 - mean_absolute_error: 0.0354 - val_loss: 0.0096 - val_mean_squared_error: 0.0096 - val_mean_absolute_error: 0.0552\n",
            "\n",
            "Epoch 00098: val_loss did not improve from 0.00894\n",
            "Epoch 99/200\n",
            "393/393 [==============================] - 0s 147us/step - loss: 0.0036 - mean_squared_error: 0.0036 - mean_absolute_error: 0.0340 - val_loss: 0.0092 - val_mean_squared_error: 0.0092 - val_mean_absolute_error: 0.0520\n",
            "\n",
            "Epoch 00099: val_loss did not improve from 0.00894\n",
            "Epoch 100/200\n",
            "393/393 [==============================] - 0s 137us/step - loss: 0.0033 - mean_squared_error: 0.0033 - mean_absolute_error: 0.0333 - val_loss: 0.0094 - val_mean_squared_error: 0.0094 - val_mean_absolute_error: 0.0525\n",
            "\n",
            "Epoch 00100: val_loss did not improve from 0.00894\n",
            "Epoch 101/200\n",
            "393/393 [==============================] - 0s 139us/step - loss: 0.0031 - mean_squared_error: 0.0031 - mean_absolute_error: 0.0321 - val_loss: 0.0094 - val_mean_squared_error: 0.0094 - val_mean_absolute_error: 0.0519\n",
            "\n",
            "Epoch 00101: val_loss did not improve from 0.00894\n",
            "Epoch 102/200\n",
            "393/393 [==============================] - 0s 163us/step - loss: 0.0036 - mean_squared_error: 0.0036 - mean_absolute_error: 0.0350 - val_loss: 0.0099 - val_mean_squared_error: 0.0099 - val_mean_absolute_error: 0.0536\n",
            "\n",
            "Epoch 00102: val_loss did not improve from 0.00894\n",
            "Epoch 103/200\n",
            "393/393 [==============================] - 0s 144us/step - loss: 0.0038 - mean_squared_error: 0.0038 - mean_absolute_error: 0.0369 - val_loss: 0.0095 - val_mean_squared_error: 0.0095 - val_mean_absolute_error: 0.0522\n",
            "\n",
            "Epoch 00103: val_loss did not improve from 0.00894\n",
            "Epoch 104/200\n",
            "393/393 [==============================] - 0s 146us/step - loss: 0.0035 - mean_squared_error: 0.0035 - mean_absolute_error: 0.0356 - val_loss: 0.0090 - val_mean_squared_error: 0.0090 - val_mean_absolute_error: 0.0513\n",
            "\n",
            "Epoch 00104: val_loss did not improve from 0.00894\n",
            "Epoch 105/200\n",
            "393/393 [==============================] - 0s 146us/step - loss: 0.0032 - mean_squared_error: 0.0032 - mean_absolute_error: 0.0328 - val_loss: 0.0090 - val_mean_squared_error: 0.0090 - val_mean_absolute_error: 0.0527\n",
            "\n",
            "Epoch 00105: val_loss did not improve from 0.00894\n",
            "Epoch 106/200\n",
            "393/393 [==============================] - 0s 149us/step - loss: 0.0031 - mean_squared_error: 0.0031 - mean_absolute_error: 0.0318 - val_loss: 0.0091 - val_mean_squared_error: 0.0091 - val_mean_absolute_error: 0.0523\n",
            "\n",
            "Epoch 00106: val_loss did not improve from 0.00894\n",
            "Epoch 107/200\n",
            "393/393 [==============================] - 0s 136us/step - loss: 0.0033 - mean_squared_error: 0.0033 - mean_absolute_error: 0.0322 - val_loss: 0.0093 - val_mean_squared_error: 0.0093 - val_mean_absolute_error: 0.0551\n",
            "\n",
            "Epoch 00107: val_loss did not improve from 0.00894\n",
            "Epoch 108/200\n",
            "393/393 [==============================] - 0s 133us/step - loss: 0.0030 - mean_squared_error: 0.0030 - mean_absolute_error: 0.0312 - val_loss: 0.0088 - val_mean_squared_error: 0.0088 - val_mean_absolute_error: 0.0510\n",
            "\n",
            "Epoch 00108: val_loss improved from 0.00894 to 0.00882, saving model to Weights-108--0.00882.hdf5\n",
            "Epoch 109/200\n",
            "393/393 [==============================] - 0s 147us/step - loss: 0.0031 - mean_squared_error: 0.0031 - mean_absolute_error: 0.0319 - val_loss: 0.0090 - val_mean_squared_error: 0.0090 - val_mean_absolute_error: 0.0523\n",
            "\n",
            "Epoch 00109: val_loss did not improve from 0.00882\n",
            "Epoch 110/200\n",
            "393/393 [==============================] - 0s 133us/step - loss: 0.0031 - mean_squared_error: 0.0031 - mean_absolute_error: 0.0317 - val_loss: 0.0087 - val_mean_squared_error: 0.0087 - val_mean_absolute_error: 0.0489\n",
            "\n",
            "Epoch 00110: val_loss improved from 0.00882 to 0.00869, saving model to Weights-110--0.00869.hdf5\n",
            "Epoch 111/200\n",
            "393/393 [==============================] - 0s 135us/step - loss: 0.0032 - mean_squared_error: 0.0032 - mean_absolute_error: 0.0323 - val_loss: 0.0086 - val_mean_squared_error: 0.0086 - val_mean_absolute_error: 0.0529\n",
            "\n",
            "Epoch 00111: val_loss improved from 0.00869 to 0.00857, saving model to Weights-111--0.00857.hdf5\n",
            "Epoch 112/200\n",
            "393/393 [==============================] - 0s 148us/step - loss: 0.0055 - mean_squared_error: 0.0055 - mean_absolute_error: 0.0434 - val_loss: 0.0086 - val_mean_squared_error: 0.0086 - val_mean_absolute_error: 0.0540\n",
            "\n",
            "Epoch 00112: val_loss did not improve from 0.00857\n",
            "Epoch 113/200\n",
            "393/393 [==============================] - 0s 153us/step - loss: 0.0036 - mean_squared_error: 0.0036 - mean_absolute_error: 0.0374 - val_loss: 0.0097 - val_mean_squared_error: 0.0097 - val_mean_absolute_error: 0.0572\n",
            "\n",
            "Epoch 00113: val_loss did not improve from 0.00857\n",
            "Epoch 114/200\n",
            "393/393 [==============================] - 0s 190us/step - loss: 0.0030 - mean_squared_error: 0.0030 - mean_absolute_error: 0.0322 - val_loss: 0.0085 - val_mean_squared_error: 0.0085 - val_mean_absolute_error: 0.0514\n",
            "\n",
            "Epoch 00114: val_loss improved from 0.00857 to 0.00850, saving model to Weights-114--0.00850.hdf5\n",
            "Epoch 115/200\n",
            "393/393 [==============================] - 0s 151us/step - loss: 0.0028 - mean_squared_error: 0.0028 - mean_absolute_error: 0.0312 - val_loss: 0.0085 - val_mean_squared_error: 0.0085 - val_mean_absolute_error: 0.0489\n",
            "\n",
            "Epoch 00115: val_loss improved from 0.00850 to 0.00850, saving model to Weights-115--0.00850.hdf5\n",
            "Epoch 116/200\n",
            "393/393 [==============================] - 0s 196us/step - loss: 0.0029 - mean_squared_error: 0.0029 - mean_absolute_error: 0.0313 - val_loss: 0.0088 - val_mean_squared_error: 0.0088 - val_mean_absolute_error: 0.0514\n",
            "\n",
            "Epoch 00116: val_loss did not improve from 0.00850\n",
            "Epoch 117/200\n",
            "393/393 [==============================] - 0s 213us/step - loss: 0.0032 - mean_squared_error: 0.0032 - mean_absolute_error: 0.0324 - val_loss: 0.0081 - val_mean_squared_error: 0.0081 - val_mean_absolute_error: 0.0511\n",
            "\n",
            "Epoch 00117: val_loss improved from 0.00850 to 0.00814, saving model to Weights-117--0.00814.hdf5\n",
            "Epoch 118/200\n",
            "393/393 [==============================] - 0s 194us/step - loss: 0.0031 - mean_squared_error: 0.0031 - mean_absolute_error: 0.0327 - val_loss: 0.0086 - val_mean_squared_error: 0.0086 - val_mean_absolute_error: 0.0505\n",
            "\n",
            "Epoch 00118: val_loss did not improve from 0.00814\n",
            "Epoch 119/200\n",
            "393/393 [==============================] - 0s 205us/step - loss: 0.0033 - mean_squared_error: 0.0033 - mean_absolute_error: 0.0328 - val_loss: 0.0082 - val_mean_squared_error: 0.0082 - val_mean_absolute_error: 0.0510\n",
            "\n",
            "Epoch 00119: val_loss did not improve from 0.00814\n",
            "Epoch 120/200\n",
            "393/393 [==============================] - 0s 199us/step - loss: 0.0028 - mean_squared_error: 0.0028 - mean_absolute_error: 0.0306 - val_loss: 0.0084 - val_mean_squared_error: 0.0084 - val_mean_absolute_error: 0.0487\n",
            "\n",
            "Epoch 00120: val_loss did not improve from 0.00814\n",
            "Epoch 121/200\n",
            "393/393 [==============================] - 0s 189us/step - loss: 0.0027 - mean_squared_error: 0.0027 - mean_absolute_error: 0.0305 - val_loss: 0.0083 - val_mean_squared_error: 0.0083 - val_mean_absolute_error: 0.0496\n",
            "\n",
            "Epoch 00121: val_loss did not improve from 0.00814\n",
            "Epoch 122/200\n",
            "393/393 [==============================] - 0s 203us/step - loss: 0.0026 - mean_squared_error: 0.0026 - mean_absolute_error: 0.0291 - val_loss: 0.0085 - val_mean_squared_error: 0.0085 - val_mean_absolute_error: 0.0518\n",
            "\n",
            "Epoch 00122: val_loss did not improve from 0.00814\n",
            "Epoch 123/200\n",
            "393/393 [==============================] - 0s 187us/step - loss: 0.0025 - mean_squared_error: 0.0025 - mean_absolute_error: 0.0300 - val_loss: 0.0080 - val_mean_squared_error: 0.0080 - val_mean_absolute_error: 0.0487\n",
            "\n",
            "Epoch 00123: val_loss improved from 0.00814 to 0.00800, saving model to Weights-123--0.00800.hdf5\n",
            "Epoch 124/200\n",
            "393/393 [==============================] - 0s 199us/step - loss: 0.0025 - mean_squared_error: 0.0025 - mean_absolute_error: 0.0290 - val_loss: 0.0083 - val_mean_squared_error: 0.0083 - val_mean_absolute_error: 0.0493\n",
            "\n",
            "Epoch 00124: val_loss did not improve from 0.00800\n",
            "Epoch 125/200\n",
            "393/393 [==============================] - 0s 226us/step - loss: 0.0038 - mean_squared_error: 0.0038 - mean_absolute_error: 0.0365 - val_loss: 0.0093 - val_mean_squared_error: 0.0093 - val_mean_absolute_error: 0.0490\n",
            "\n",
            "Epoch 00125: val_loss did not improve from 0.00800\n",
            "Epoch 126/200\n",
            "393/393 [==============================] - 0s 181us/step - loss: 0.0042 - mean_squared_error: 0.0042 - mean_absolute_error: 0.0371 - val_loss: 0.0132 - val_mean_squared_error: 0.0132 - val_mean_absolute_error: 0.0665\n",
            "\n",
            "Epoch 00126: val_loss did not improve from 0.00800\n",
            "Epoch 127/200\n",
            "393/393 [==============================] - 0s 172us/step - loss: 0.0062 - mean_squared_error: 0.0062 - mean_absolute_error: 0.0427 - val_loss: 0.0091 - val_mean_squared_error: 0.0091 - val_mean_absolute_error: 0.0601\n",
            "\n",
            "Epoch 00127: val_loss did not improve from 0.00800\n",
            "Epoch 128/200\n",
            "393/393 [==============================] - 0s 152us/step - loss: 0.0034 - mean_squared_error: 0.0034 - mean_absolute_error: 0.0370 - val_loss: 0.0100 - val_mean_squared_error: 0.0100 - val_mean_absolute_error: 0.0546\n",
            "\n",
            "Epoch 00128: val_loss did not improve from 0.00800\n",
            "Epoch 129/200\n",
            "393/393 [==============================] - 0s 152us/step - loss: 0.0043 - mean_squared_error: 0.0043 - mean_absolute_error: 0.0402 - val_loss: 0.0089 - val_mean_squared_error: 0.0089 - val_mean_absolute_error: 0.0556\n",
            "\n",
            "Epoch 00129: val_loss did not improve from 0.00800\n",
            "Epoch 130/200\n",
            "393/393 [==============================] - 0s 140us/step - loss: 0.0034 - mean_squared_error: 0.0034 - mean_absolute_error: 0.0355 - val_loss: 0.0082 - val_mean_squared_error: 0.0082 - val_mean_absolute_error: 0.0506\n",
            "\n",
            "Epoch 00130: val_loss did not improve from 0.00800\n",
            "Epoch 131/200\n",
            "393/393 [==============================] - 0s 140us/step - loss: 0.0031 - mean_squared_error: 0.0031 - mean_absolute_error: 0.0328 - val_loss: 0.0096 - val_mean_squared_error: 0.0096 - val_mean_absolute_error: 0.0604\n",
            "\n",
            "Epoch 00131: val_loss did not improve from 0.00800\n",
            "Epoch 132/200\n",
            "393/393 [==============================] - 0s 151us/step - loss: 0.0035 - mean_squared_error: 0.0035 - mean_absolute_error: 0.0346 - val_loss: 0.0086 - val_mean_squared_error: 0.0086 - val_mean_absolute_error: 0.0555\n",
            "\n",
            "Epoch 00132: val_loss did not improve from 0.00800\n",
            "Epoch 133/200\n",
            "393/393 [==============================] - 0s 135us/step - loss: 0.0032 - mean_squared_error: 0.0032 - mean_absolute_error: 0.0345 - val_loss: 0.0101 - val_mean_squared_error: 0.0101 - val_mean_absolute_error: 0.0602\n",
            "\n",
            "Epoch 00133: val_loss did not improve from 0.00800\n",
            "Epoch 134/200\n",
            "393/393 [==============================] - 0s 145us/step - loss: 0.0032 - mean_squared_error: 0.0032 - mean_absolute_error: 0.0342 - val_loss: 0.0080 - val_mean_squared_error: 0.0080 - val_mean_absolute_error: 0.0526\n",
            "\n",
            "Epoch 00134: val_loss did not improve from 0.00800\n",
            "Epoch 135/200\n",
            "393/393 [==============================] - 0s 144us/step - loss: 0.0027 - mean_squared_error: 0.0027 - mean_absolute_error: 0.0319 - val_loss: 0.0085 - val_mean_squared_error: 0.0085 - val_mean_absolute_error: 0.0515\n",
            "\n",
            "Epoch 00135: val_loss did not improve from 0.00800\n",
            "Epoch 136/200\n",
            "393/393 [==============================] - 0s 153us/step - loss: 0.0029 - mean_squared_error: 0.0029 - mean_absolute_error: 0.0318 - val_loss: 0.0110 - val_mean_squared_error: 0.0110 - val_mean_absolute_error: 0.0644\n",
            "\n",
            "Epoch 00136: val_loss did not improve from 0.00800\n",
            "Epoch 137/200\n",
            "393/393 [==============================] - 0s 139us/step - loss: 0.0046 - mean_squared_error: 0.0046 - mean_absolute_error: 0.0398 - val_loss: 0.0113 - val_mean_squared_error: 0.0113 - val_mean_absolute_error: 0.0655\n",
            "\n",
            "Epoch 00137: val_loss did not improve from 0.00800\n",
            "Epoch 138/200\n",
            "393/393 [==============================] - 0s 140us/step - loss: 0.0034 - mean_squared_error: 0.0034 - mean_absolute_error: 0.0350 - val_loss: 0.0104 - val_mean_squared_error: 0.0104 - val_mean_absolute_error: 0.0637\n",
            "\n",
            "Epoch 00138: val_loss did not improve from 0.00800\n",
            "Epoch 139/200\n",
            "393/393 [==============================] - 0s 151us/step - loss: 0.0033 - mean_squared_error: 0.0033 - mean_absolute_error: 0.0333 - val_loss: 0.0106 - val_mean_squared_error: 0.0106 - val_mean_absolute_error: 0.0620\n",
            "\n",
            "Epoch 00139: val_loss did not improve from 0.00800\n",
            "Epoch 140/200\n",
            "393/393 [==============================] - 0s 137us/step - loss: 0.0060 - mean_squared_error: 0.0060 - mean_absolute_error: 0.0433 - val_loss: 0.0080 - val_mean_squared_error: 0.0080 - val_mean_absolute_error: 0.0529\n",
            "\n",
            "Epoch 00140: val_loss did not improve from 0.00800\n",
            "Epoch 141/200\n",
            "393/393 [==============================] - 0s 139us/step - loss: 0.0038 - mean_squared_error: 0.0038 - mean_absolute_error: 0.0405 - val_loss: 0.0083 - val_mean_squared_error: 0.0083 - val_mean_absolute_error: 0.0497\n",
            "\n",
            "Epoch 00141: val_loss did not improve from 0.00800\n",
            "Epoch 142/200\n",
            "393/393 [==============================] - 0s 134us/step - loss: 0.0037 - mean_squared_error: 0.0037 - mean_absolute_error: 0.0367 - val_loss: 0.0086 - val_mean_squared_error: 0.0086 - val_mean_absolute_error: 0.0513\n",
            "\n",
            "Epoch 00142: val_loss did not improve from 0.00800\n",
            "Epoch 143/200\n",
            "393/393 [==============================] - 0s 164us/step - loss: 0.0035 - mean_squared_error: 0.0035 - mean_absolute_error: 0.0342 - val_loss: 0.0087 - val_mean_squared_error: 0.0087 - val_mean_absolute_error: 0.0506\n",
            "\n",
            "Epoch 00143: val_loss did not improve from 0.00800\n",
            "Epoch 144/200\n",
            "393/393 [==============================] - 0s 133us/step - loss: 0.0030 - mean_squared_error: 0.0030 - mean_absolute_error: 0.0321 - val_loss: 0.0085 - val_mean_squared_error: 0.0085 - val_mean_absolute_error: 0.0504\n",
            "\n",
            "Epoch 00144: val_loss did not improve from 0.00800\n",
            "Epoch 145/200\n",
            "393/393 [==============================] - 0s 135us/step - loss: 0.0026 - mean_squared_error: 0.0026 - mean_absolute_error: 0.0312 - val_loss: 0.0086 - val_mean_squared_error: 0.0086 - val_mean_absolute_error: 0.0518\n",
            "\n",
            "Epoch 00145: val_loss did not improve from 0.00800\n",
            "Epoch 146/200\n",
            "393/393 [==============================] - 0s 140us/step - loss: 0.0027 - mean_squared_error: 0.0027 - mean_absolute_error: 0.0313 - val_loss: 0.0081 - val_mean_squared_error: 0.0081 - val_mean_absolute_error: 0.0491\n",
            "\n",
            "Epoch 00146: val_loss did not improve from 0.00800\n",
            "Epoch 147/200\n",
            "393/393 [==============================] - 0s 136us/step - loss: 0.0028 - mean_squared_error: 0.0028 - mean_absolute_error: 0.0319 - val_loss: 0.0085 - val_mean_squared_error: 0.0085 - val_mean_absolute_error: 0.0527\n",
            "\n",
            "Epoch 00147: val_loss did not improve from 0.00800\n",
            "Epoch 148/200\n",
            "393/393 [==============================] - 0s 144us/step - loss: 0.0026 - mean_squared_error: 0.0026 - mean_absolute_error: 0.0303 - val_loss: 0.0085 - val_mean_squared_error: 0.0085 - val_mean_absolute_error: 0.0491\n",
            "\n",
            "Epoch 00148: val_loss did not improve from 0.00800\n",
            "Epoch 149/200\n",
            "393/393 [==============================] - 0s 144us/step - loss: 0.0023 - mean_squared_error: 0.0023 - mean_absolute_error: 0.0292 - val_loss: 0.0086 - val_mean_squared_error: 0.0086 - val_mean_absolute_error: 0.0496\n",
            "\n",
            "Epoch 00149: val_loss did not improve from 0.00800\n",
            "Epoch 150/200\n",
            "393/393 [==============================] - 0s 161us/step - loss: 0.0023 - mean_squared_error: 0.0023 - mean_absolute_error: 0.0290 - val_loss: 0.0081 - val_mean_squared_error: 0.0081 - val_mean_absolute_error: 0.0502\n",
            "\n",
            "Epoch 00150: val_loss did not improve from 0.00800\n",
            "Epoch 151/200\n",
            "393/393 [==============================] - 0s 151us/step - loss: 0.0028 - mean_squared_error: 0.0028 - mean_absolute_error: 0.0335 - val_loss: 0.0105 - val_mean_squared_error: 0.0105 - val_mean_absolute_error: 0.0529\n",
            "\n",
            "Epoch 00151: val_loss did not improve from 0.00800\n",
            "Epoch 152/200\n",
            "393/393 [==============================] - 0s 141us/step - loss: 0.0038 - mean_squared_error: 0.0038 - mean_absolute_error: 0.0397 - val_loss: 0.0089 - val_mean_squared_error: 0.0089 - val_mean_absolute_error: 0.0548\n",
            "\n",
            "Epoch 00152: val_loss did not improve from 0.00800\n",
            "Epoch 153/200\n",
            "393/393 [==============================] - 0s 147us/step - loss: 0.0032 - mean_squared_error: 0.0032 - mean_absolute_error: 0.0318 - val_loss: 0.0083 - val_mean_squared_error: 0.0083 - val_mean_absolute_error: 0.0511\n",
            "\n",
            "Epoch 00153: val_loss did not improve from 0.00800\n",
            "Epoch 154/200\n",
            "393/393 [==============================] - 0s 140us/step - loss: 0.0024 - mean_squared_error: 0.0024 - mean_absolute_error: 0.0299 - val_loss: 0.0085 - val_mean_squared_error: 0.0085 - val_mean_absolute_error: 0.0504\n",
            "\n",
            "Epoch 00154: val_loss did not improve from 0.00800\n",
            "Epoch 155/200\n",
            "393/393 [==============================] - 0s 149us/step - loss: 0.0024 - mean_squared_error: 0.0024 - mean_absolute_error: 0.0290 - val_loss: 0.0081 - val_mean_squared_error: 0.0081 - val_mean_absolute_error: 0.0501\n",
            "\n",
            "Epoch 00155: val_loss did not improve from 0.00800\n",
            "Epoch 156/200\n",
            "393/393 [==============================] - 0s 148us/step - loss: 0.0023 - mean_squared_error: 0.0023 - mean_absolute_error: 0.0287 - val_loss: 0.0082 - val_mean_squared_error: 0.0082 - val_mean_absolute_error: 0.0485\n",
            "\n",
            "Epoch 00156: val_loss did not improve from 0.00800\n",
            "Epoch 157/200\n",
            "393/393 [==============================] - 0s 154us/step - loss: 0.0022 - mean_squared_error: 0.0022 - mean_absolute_error: 0.0280 - val_loss: 0.0082 - val_mean_squared_error: 0.0082 - val_mean_absolute_error: 0.0502\n",
            "\n",
            "Epoch 00157: val_loss did not improve from 0.00800\n",
            "Epoch 158/200\n",
            "393/393 [==============================] - 0s 155us/step - loss: 0.0020 - mean_squared_error: 0.0020 - mean_absolute_error: 0.0280 - val_loss: 0.0079 - val_mean_squared_error: 0.0079 - val_mean_absolute_error: 0.0468\n",
            "\n",
            "Epoch 00158: val_loss improved from 0.00800 to 0.00788, saving model to Weights-158--0.00788.hdf5\n",
            "Epoch 159/200\n",
            "393/393 [==============================] - 0s 149us/step - loss: 0.0023 - mean_squared_error: 0.0023 - mean_absolute_error: 0.0286 - val_loss: 0.0078 - val_mean_squared_error: 0.0078 - val_mean_absolute_error: 0.0490\n",
            "\n",
            "Epoch 00159: val_loss improved from 0.00788 to 0.00783, saving model to Weights-159--0.00783.hdf5\n",
            "Epoch 160/200\n",
            "393/393 [==============================] - 0s 171us/step - loss: 0.0022 - mean_squared_error: 0.0022 - mean_absolute_error: 0.0278 - val_loss: 0.0078 - val_mean_squared_error: 0.0078 - val_mean_absolute_error: 0.0495\n",
            "\n",
            "Epoch 00160: val_loss did not improve from 0.00783\n",
            "Epoch 161/200\n",
            "393/393 [==============================] - 0s 151us/step - loss: 0.0021 - mean_squared_error: 0.0021 - mean_absolute_error: 0.0266 - val_loss: 0.0070 - val_mean_squared_error: 0.0070 - val_mean_absolute_error: 0.0450\n",
            "\n",
            "Epoch 00161: val_loss improved from 0.00783 to 0.00701, saving model to Weights-161--0.00701.hdf5\n",
            "Epoch 162/200\n",
            "393/393 [==============================] - 0s 152us/step - loss: 0.0027 - mean_squared_error: 0.0027 - mean_absolute_error: 0.0297 - val_loss: 0.0080 - val_mean_squared_error: 0.0080 - val_mean_absolute_error: 0.0480\n",
            "\n",
            "Epoch 00162: val_loss did not improve from 0.00701\n",
            "Epoch 163/200\n",
            "393/393 [==============================] - 0s 145us/step - loss: 0.0031 - mean_squared_error: 0.0031 - mean_absolute_error: 0.0338 - val_loss: 0.0069 - val_mean_squared_error: 0.0069 - val_mean_absolute_error: 0.0457\n",
            "\n",
            "Epoch 00163: val_loss improved from 0.00701 to 0.00693, saving model to Weights-163--0.00693.hdf5\n",
            "Epoch 164/200\n",
            "393/393 [==============================] - 0s 135us/step - loss: 0.0020 - mean_squared_error: 0.0020 - mean_absolute_error: 0.0269 - val_loss: 0.0075 - val_mean_squared_error: 0.0075 - val_mean_absolute_error: 0.0463\n",
            "\n",
            "Epoch 00164: val_loss did not improve from 0.00693\n",
            "Epoch 165/200\n",
            "393/393 [==============================] - 0s 157us/step - loss: 0.0022 - mean_squared_error: 0.0022 - mean_absolute_error: 0.0281 - val_loss: 0.0079 - val_mean_squared_error: 0.0079 - val_mean_absolute_error: 0.0480\n",
            "\n",
            "Epoch 00165: val_loss did not improve from 0.00693\n",
            "Epoch 166/200\n",
            "393/393 [==============================] - 0s 155us/step - loss: 0.0024 - mean_squared_error: 0.0024 - mean_absolute_error: 0.0289 - val_loss: 0.0078 - val_mean_squared_error: 0.0078 - val_mean_absolute_error: 0.0470\n",
            "\n",
            "Epoch 00166: val_loss did not improve from 0.00693\n",
            "Epoch 167/200\n",
            "393/393 [==============================] - 0s 152us/step - loss: 0.0024 - mean_squared_error: 0.0024 - mean_absolute_error: 0.0288 - val_loss: 0.0079 - val_mean_squared_error: 0.0079 - val_mean_absolute_error: 0.0486\n",
            "\n",
            "Epoch 00167: val_loss did not improve from 0.00693\n",
            "Epoch 168/200\n",
            "393/393 [==============================] - 0s 144us/step - loss: 0.0023 - mean_squared_error: 0.0023 - mean_absolute_error: 0.0280 - val_loss: 0.0085 - val_mean_squared_error: 0.0085 - val_mean_absolute_error: 0.0539\n",
            "\n",
            "Epoch 00168: val_loss did not improve from 0.00693\n",
            "Epoch 169/200\n",
            "393/393 [==============================] - 0s 145us/step - loss: 0.0022 - mean_squared_error: 0.0022 - mean_absolute_error: 0.0279 - val_loss: 0.0084 - val_mean_squared_error: 0.0084 - val_mean_absolute_error: 0.0514\n",
            "\n",
            "Epoch 00169: val_loss did not improve from 0.00693\n",
            "Epoch 170/200\n",
            "393/393 [==============================] - 0s 145us/step - loss: 0.0024 - mean_squared_error: 0.0024 - mean_absolute_error: 0.0283 - val_loss: 0.0093 - val_mean_squared_error: 0.0093 - val_mean_absolute_error: 0.0530\n",
            "\n",
            "Epoch 00170: val_loss did not improve from 0.00693\n",
            "Epoch 171/200\n",
            "393/393 [==============================] - 0s 152us/step - loss: 0.0025 - mean_squared_error: 0.0025 - mean_absolute_error: 0.0309 - val_loss: 0.0073 - val_mean_squared_error: 0.0073 - val_mean_absolute_error: 0.0479\n",
            "\n",
            "Epoch 00171: val_loss did not improve from 0.00693\n",
            "Epoch 172/200\n",
            "393/393 [==============================] - 0s 152us/step - loss: 0.0023 - mean_squared_error: 0.0023 - mean_absolute_error: 0.0296 - val_loss: 0.0087 - val_mean_squared_error: 0.0087 - val_mean_absolute_error: 0.0521\n",
            "\n",
            "Epoch 00172: val_loss did not improve from 0.00693\n",
            "Epoch 173/200\n",
            "393/393 [==============================] - 0s 147us/step - loss: 0.0019 - mean_squared_error: 0.0019 - mean_absolute_error: 0.0261 - val_loss: 0.0084 - val_mean_squared_error: 0.0084 - val_mean_absolute_error: 0.0509\n",
            "\n",
            "Epoch 00173: val_loss did not improve from 0.00693\n",
            "Epoch 174/200\n",
            "393/393 [==============================] - 0s 173us/step - loss: 0.0019 - mean_squared_error: 0.0019 - mean_absolute_error: 0.0261 - val_loss: 0.0096 - val_mean_squared_error: 0.0096 - val_mean_absolute_error: 0.0592\n",
            "\n",
            "Epoch 00174: val_loss did not improve from 0.00693\n",
            "Epoch 175/200\n",
            "393/393 [==============================] - 0s 159us/step - loss: 0.0027 - mean_squared_error: 0.0027 - mean_absolute_error: 0.0312 - val_loss: 0.0087 - val_mean_squared_error: 0.0087 - val_mean_absolute_error: 0.0560\n",
            "\n",
            "Epoch 00175: val_loss did not improve from 0.00693\n",
            "Epoch 176/200\n",
            "393/393 [==============================] - 0s 151us/step - loss: 0.0022 - mean_squared_error: 0.0022 - mean_absolute_error: 0.0285 - val_loss: 0.0085 - val_mean_squared_error: 0.0085 - val_mean_absolute_error: 0.0514\n",
            "\n",
            "Epoch 00176: val_loss did not improve from 0.00693\n",
            "Epoch 177/200\n",
            "393/393 [==============================] - 0s 156us/step - loss: 0.0027 - mean_squared_error: 0.0027 - mean_absolute_error: 0.0295 - val_loss: 0.0073 - val_mean_squared_error: 0.0073 - val_mean_absolute_error: 0.0492\n",
            "\n",
            "Epoch 00177: val_loss did not improve from 0.00693\n",
            "Epoch 178/200\n",
            "393/393 [==============================] - 0s 154us/step - loss: 0.0023 - mean_squared_error: 0.0023 - mean_absolute_error: 0.0291 - val_loss: 0.0083 - val_mean_squared_error: 0.0083 - val_mean_absolute_error: 0.0481\n",
            "\n",
            "Epoch 00178: val_loss did not improve from 0.00693\n",
            "Epoch 179/200\n",
            "393/393 [==============================] - 0s 162us/step - loss: 0.0020 - mean_squared_error: 0.0020 - mean_absolute_error: 0.0279 - val_loss: 0.0074 - val_mean_squared_error: 0.0074 - val_mean_absolute_error: 0.0475\n",
            "\n",
            "Epoch 00179: val_loss did not improve from 0.00693\n",
            "Epoch 180/200\n",
            "393/393 [==============================] - 0s 145us/step - loss: 0.0020 - mean_squared_error: 0.0020 - mean_absolute_error: 0.0272 - val_loss: 0.0076 - val_mean_squared_error: 0.0076 - val_mean_absolute_error: 0.0471\n",
            "\n",
            "Epoch 00180: val_loss did not improve from 0.00693\n",
            "Epoch 181/200\n",
            "393/393 [==============================] - 0s 149us/step - loss: 0.0021 - mean_squared_error: 0.0021 - mean_absolute_error: 0.0285 - val_loss: 0.0072 - val_mean_squared_error: 0.0072 - val_mean_absolute_error: 0.0465\n",
            "\n",
            "Epoch 00181: val_loss did not improve from 0.00693\n",
            "Epoch 182/200\n",
            "393/393 [==============================] - 0s 154us/step - loss: 0.0021 - mean_squared_error: 0.0021 - mean_absolute_error: 0.0282 - val_loss: 0.0088 - val_mean_squared_error: 0.0088 - val_mean_absolute_error: 0.0523\n",
            "\n",
            "Epoch 00182: val_loss did not improve from 0.00693\n",
            "Epoch 183/200\n",
            "393/393 [==============================] - 0s 140us/step - loss: 0.0028 - mean_squared_error: 0.0028 - mean_absolute_error: 0.0328 - val_loss: 0.0066 - val_mean_squared_error: 0.0066 - val_mean_absolute_error: 0.0473\n",
            "\n",
            "Epoch 00183: val_loss improved from 0.00693 to 0.00657, saving model to Weights-183--0.00657.hdf5\n",
            "Epoch 184/200\n",
            "393/393 [==============================] - 0s 143us/step - loss: 0.0020 - mean_squared_error: 0.0020 - mean_absolute_error: 0.0297 - val_loss: 0.0073 - val_mean_squared_error: 0.0073 - val_mean_absolute_error: 0.0456\n",
            "\n",
            "Epoch 00184: val_loss did not improve from 0.00657\n",
            "Epoch 185/200\n",
            "393/393 [==============================] - 0s 158us/step - loss: 0.0016 - mean_squared_error: 0.0016 - mean_absolute_error: 0.0244 - val_loss: 0.0069 - val_mean_squared_error: 0.0069 - val_mean_absolute_error: 0.0446\n",
            "\n",
            "Epoch 00185: val_loss did not improve from 0.00657\n",
            "Epoch 186/200\n",
            "393/393 [==============================] - 0s 205us/step - loss: 0.0015 - mean_squared_error: 0.0015 - mean_absolute_error: 0.0241 - val_loss: 0.0072 - val_mean_squared_error: 0.0072 - val_mean_absolute_error: 0.0456\n",
            "\n",
            "Epoch 00186: val_loss did not improve from 0.00657\n",
            "Epoch 187/200\n",
            "393/393 [==============================] - 0s 185us/step - loss: 0.0017 - mean_squared_error: 0.0017 - mean_absolute_error: 0.0242 - val_loss: 0.0082 - val_mean_squared_error: 0.0082 - val_mean_absolute_error: 0.0492\n",
            "\n",
            "Epoch 00187: val_loss did not improve from 0.00657\n",
            "Epoch 188/200\n",
            "393/393 [==============================] - 0s 148us/step - loss: 0.0013 - mean_squared_error: 0.0013 - mean_absolute_error: 0.0234 - val_loss: 0.0073 - val_mean_squared_error: 0.0073 - val_mean_absolute_error: 0.0463\n",
            "\n",
            "Epoch 00188: val_loss did not improve from 0.00657\n",
            "Epoch 189/200\n",
            "393/393 [==============================] - 0s 152us/step - loss: 0.0013 - mean_squared_error: 0.0013 - mean_absolute_error: 0.0229 - val_loss: 0.0079 - val_mean_squared_error: 0.0079 - val_mean_absolute_error: 0.0481\n",
            "\n",
            "Epoch 00189: val_loss did not improve from 0.00657\n",
            "Epoch 190/200\n",
            "393/393 [==============================] - 0s 193us/step - loss: 0.0014 - mean_squared_error: 0.0014 - mean_absolute_error: 0.0229 - val_loss: 0.0072 - val_mean_squared_error: 0.0072 - val_mean_absolute_error: 0.0443\n",
            "\n",
            "Epoch 00190: val_loss did not improve from 0.00657\n",
            "Epoch 191/200\n",
            "393/393 [==============================] - 0s 211us/step - loss: 0.0017 - mean_squared_error: 0.0017 - mean_absolute_error: 0.0239 - val_loss: 0.0072 - val_mean_squared_error: 0.0072 - val_mean_absolute_error: 0.0441\n",
            "\n",
            "Epoch 00191: val_loss did not improve from 0.00657\n",
            "Epoch 192/200\n",
            "393/393 [==============================] - 0s 190us/step - loss: 0.0018 - mean_squared_error: 0.0018 - mean_absolute_error: 0.0263 - val_loss: 0.0068 - val_mean_squared_error: 0.0068 - val_mean_absolute_error: 0.0455\n",
            "\n",
            "Epoch 00192: val_loss did not improve from 0.00657\n",
            "Epoch 193/200\n",
            "393/393 [==============================] - 0s 196us/step - loss: 0.0019 - mean_squared_error: 0.0019 - mean_absolute_error: 0.0284 - val_loss: 0.0076 - val_mean_squared_error: 0.0076 - val_mean_absolute_error: 0.0470\n",
            "\n",
            "Epoch 00193: val_loss did not improve from 0.00657\n",
            "Epoch 194/200\n",
            "393/393 [==============================] - 0s 167us/step - loss: 0.0015 - mean_squared_error: 0.0015 - mean_absolute_error: 0.0249 - val_loss: 0.0075 - val_mean_squared_error: 0.0075 - val_mean_absolute_error: 0.0468\n",
            "\n",
            "Epoch 00194: val_loss did not improve from 0.00657\n",
            "Epoch 195/200\n",
            "393/393 [==============================] - 0s 185us/step - loss: 0.0015 - mean_squared_error: 0.0015 - mean_absolute_error: 0.0250 - val_loss: 0.0070 - val_mean_squared_error: 0.0070 - val_mean_absolute_error: 0.0442\n",
            "\n",
            "Epoch 00195: val_loss did not improve from 0.00657\n",
            "Epoch 196/200\n",
            "393/393 [==============================] - 0s 198us/step - loss: 0.0017 - mean_squared_error: 0.0017 - mean_absolute_error: 0.0249 - val_loss: 0.0068 - val_mean_squared_error: 0.0068 - val_mean_absolute_error: 0.0445\n",
            "\n",
            "Epoch 00196: val_loss did not improve from 0.00657\n",
            "Epoch 197/200\n",
            "393/393 [==============================] - 0s 212us/step - loss: 0.0013 - mean_squared_error: 0.0013 - mean_absolute_error: 0.0243 - val_loss: 0.0084 - val_mean_squared_error: 0.0084 - val_mean_absolute_error: 0.0486\n",
            "\n",
            "Epoch 00197: val_loss did not improve from 0.00657\n",
            "Epoch 198/200\n",
            "393/393 [==============================] - 0s 196us/step - loss: 0.0016 - mean_squared_error: 0.0016 - mean_absolute_error: 0.0261 - val_loss: 0.0084 - val_mean_squared_error: 0.0084 - val_mean_absolute_error: 0.0555\n",
            "\n",
            "Epoch 00198: val_loss did not improve from 0.00657\n",
            "Epoch 199/200\n",
            "393/393 [==============================] - 0s 240us/step - loss: 0.0018 - mean_squared_error: 0.0018 - mean_absolute_error: 0.0271 - val_loss: 0.0069 - val_mean_squared_error: 0.0069 - val_mean_absolute_error: 0.0454\n",
            "\n",
            "Epoch 00199: val_loss did not improve from 0.00657\n",
            "Epoch 200/200\n",
            "393/393 [==============================] - 0s 201us/step - loss: 0.0021 - mean_squared_error: 0.0021 - mean_absolute_error: 0.0298 - val_loss: 0.0076 - val_mean_squared_error: 0.0076 - val_mean_absolute_error: 0.0509\n",
            "\n",
            "Epoch 00200: val_loss did not improve from 0.00657\n",
            "107\n"
          ],
          "name": "stdout"
        },
        {
          "output_type": "display_data",
          "data": {
            "image/png": "[encoded data removed]",
            "text/plain": [
              "<Figure size 432x288 with 1 Axes>"
            ]
          },
          "metadata": {
            "tags": []
          }
        }
      ]
    },
    {
      "cell_type": "code",
      "metadata": {
        "id": "HJpSi4yH3lZy",
        "colab_type": "code",
        "outputId": "5608d13c-d50d-46ad-fd8a-200880cb7f11",
        "colab": {
          "base_uri": "https://localhost:8080/",
          "height": 88
        }
      },
      "source": [
        "NN_model.predict(X_test[31:35])"
      ],
      "execution_count": 0,
      "outputs": [
        {
          "output_type": "execute_result",
          "data": {
            "text/plain": [
              "array([[0.12074946],\n",
              "       [0.07912192],\n",
              "       [0.01113656],\n",
              "       [0.10921122]], dtype=float32)"
            ]
          },
          "metadata": {
            "tags": []
          },
          "execution_count": 60
        }
      ]
    },
    {
      "cell_type": "code",
      "metadata": {
        "id": "7-qzJFTgGsWh",
        "colab_type": "code",
        "outputId": "575bd355-91ff-4b30-e7cc-322ccccda193",
        "colab": {
          "base_uri": "https://localhost:8080/",
          "height": 35
        }
      },
      "source": [
        "print(y_test[31:35])"
      ],
      "execution_count": 0,
      "outputs": [
        {
          "output_type": "stream",
          "text": [
            "[0.1799668  0.16704444 0.00665629 0.15470278]\n"
          ],
          "name": "stdout"
        }
      ]
    },
    {
      "cell_type": "code",
      "metadata": {
        "id": "VY9tApSHIJw6",
        "colab_type": "code",
        "colab": {}
      },
      "source": [
        "#####################Plotting graph for socre of different models###############################\n",
        "\n",
        "\n",
        "index = np.arange(len(model))\n",
        "plt.bar(index,accuracy,alpha=1,color='blue')\n",
        "plt.ylabel('Accuracy')\n",
        "plt.xlabel('Different Machine Learning Models')\n",
        "plt.xticks(index,model)\n",
        "plt.title(\"Models Comparison\")\n",
        "plt.show()\n",
        "#######feautre correlation visualizing using seaborn###############"
      ],
      "execution_count": 0,
      "outputs": []
    },
    {
      "cell_type": "code",
      "metadata": {
        "id": "LlxOI-WIjBAk",
        "colab_type": "code",
        "outputId": "3dc7acbd-ec9b-4a0e-ad7e-14ef1076cea3",
        "colab": {
          "base_uri": "https://localhost:8080/",
          "height": 1000
        }
      },
      "source": [
        "\n",
        "regr_dict  = {'Bayes': linear_model.BayesianRidge(),\n",
        "              'LinearRegression': linear_model.LinearRegression(),\n",
        "              'Ridge': linear_model.RidgeCV(alphas=[0.1, 0.5, 1.0, 2.0, 5.0, 10.0], cv=5,),\n",
        "              'ElasticNet': linear_model.ElasticNetCV()}\n",
        "mse__reg_list = []\n",
        "  # lets run the experiment multiple times\n",
        "MSE_reg = {}\n",
        "Var_reg = {}\n",
        "MAE_svr={}\n",
        "RMSE={}\n",
        "for key in regr_dict.keys():\n",
        "#   print(key)\n",
        "  regr = regr_dict[key]\n",
        "#   # regr= linear_model.LinearRegression()\n",
        "#       # Train the model using the training sets\n",
        "  regr.fit(X_train, y_train)\n",
        "  model.append(key)\n",
        "\n",
        "\n",
        "  y_pred_reg = regr.predict(X_test)\n",
        "      # print('coefficient',regr.coef_)\n",
        "      # print('intercept',regr.intercept_)\n",
        "\n",
        "  MSE_reg[key] = metrics.mean_squared_error(y_test, y_pred_reg)\n",
        "  MAE_svr[key]=metrics.mean_absolute_error(y_test, y_pred_reg)\n",
        "  RMSE[key]=np.sqrt(metrics.mean_squared_error(y_test, y_pred_reg))\n",
        "  Var_reg[key] = regr.score(X_test, y_test)\n",
        "  accuracy.append(Var_reg[key])\n",
        "  error.append(MSE_reg[key])\n",
        "  df = pd.DataFrame({'Actual': y_test.flatten(), 'Predicted': y_pred_reg.flatten()})\n",
        "  df2 = df\n",
        "  df2.plot(kind='bar', figsize=(16, 10))\n",
        "#   plt.grid(which='major', linestyle='-', linewidth='0.5', color='green')\n",
        "#   plt.grid(which='minor', linestyle=':', linewidth='0.5', color='black')\n",
        "  plt.ylabel('Error Difference')\n",
        "  plt.xlabel('Number of Test Samples')\n",
        "  plt.title('{}'.format(key))\n",
        "      # plt.scatter(X_test, y_test, color='gray')\n",
        "      # plt.plot(X_test, y_pred_svr, color='red', linewidth=2)\n",
        "  plt.savefig(key+'.png', dpi=300, bbox_inches='tight')\n",
        "\n",
        "  plt.show()\n",
        "  print('Mean Absolute Error:', metrics.mean_absolute_error(y_test, y_pred_reg))\n",
        "  print('Mean Squared Error:', metrics.mean_squared_error(y_test, y_pred_reg))\n",
        "  print('Root Mean Squared Error:', np.sqrt(metrics.mean_squared_error(y_test, y_pred_reg)))\n",
        "  print(\"Comparision of Models ....\\n\")\n",
        "\n",
        "  print(\"\\n Model Name \\t\\t\\t MSE_REG \\n\")\n",
        "#   for key in regr_dict.keys():\n",
        "#     print(\"{0:20}\\t\\t {1:.5f}\\t\\t{2:.5f}\\n\".format(key, MSE_reg[key],Var_reg[key]))\n",
        "for key in regr_dict.keys():\n",
        "  print(\"{0:20}\\t\\t {1:.5f}\\t\\t{2:.5f}\\n\".format(key, MSE_reg[key],Var_reg[key]))\n"
      ],
      "execution_count": 0,
      "outputs": [
        {
          "output_type": "display_data",
          "data": {
            "image/png": "[encoded data removed]",
            "text/plain": [
              "<Figure size 1152x720 with 1 Axes>"
            ]
          },
          "metadata": {
            "tags": []
          }
        },
        {
          "output_type": "stream",
          "text": [
            "Mean Absolute Error: 0.06314511660763662\n",
            "Mean Squared Error: 0.012393032115317679\n",
            "Root Mean Squared Error: 0.1113239961343361\n",
            "Comparision of Models ....\n",
            "\n",
            "\n",
            " Model Name \t\t\t MSE_REG \n",
            "\n"
          ],
          "name": "stdout"
        },
        {
          "output_type": "display_data",
          "data": {
            "image/png": "[encoded data removed]",
            "text/plain": [
              "<Figure size 1152x720 with 1 Axes>"
            ]
          },
          "metadata": {
            "tags": []
          }
        },
        {
          "output_type": "stream",
          "text": [
            "Mean Absolute Error: 0.06501507878544646\n",
            "Mean Squared Error: 0.015105318861364844\n",
            "Root Mean Squared Error: 0.122903697508923\n",
            "Comparision of Models ....\n",
            "\n",
            "\n",
            " Model Name \t\t\t MSE_REG \n",
            "\n"
          ],
          "name": "stdout"
        },
        {
          "output_type": "stream",
          "text": [
            "/usr/local/lib/python3.6/dist-packages/sklearn/model_selection/_search.py:814: DeprecationWarning: The default of the `iid` parameter will change from True to False in version 0.22 and will be removed in 0.24. This will change numeric results when test-set sizes are unequal.\n",
            "  DeprecationWarning)\n"
          ],
          "name": "stderr"
        },
        {
          "output_type": "display_data",
          "data": {
            "image/png": "[encoded data removed]",
            "text/plain": [
              "<Figure size 1152x720 with 1 Axes>"
            ]
          },
          "metadata": {
            "tags": []
          }
        },
        {
          "output_type": "stream",
          "text": [
            "Mean Absolute Error: 0.06833969128406327\n",
            "Mean Squared Error: 0.013287487466662345\n",
            "Root Mean Squared Error: 0.11527136446950884\n",
            "Comparision of Models ....\n",
            "\n",
            "\n",
            " Model Name \t\t\t MSE_REG \n",
            "\n"
          ],
          "name": "stdout"
        },
        {
          "output_type": "stream",
          "text": [
            "/usr/local/lib/python3.6/dist-packages/sklearn/model_selection/_split.py:1978: FutureWarning: The default value of cv will change from 3 to 5 in version 0.22. Specify it explicitly to silence this warning.\n",
            "  warnings.warn(CV_WARNING, FutureWarning)\n"
          ],
          "name": "stderr"
        },
        {
          "output_type": "display_data",
          "data": {
            "image/png": "[encoded data removed]",
            "text/plain": [
              "<Figure size 1152x720 with 1 Axes>"
            ]
          },
          "metadata": {
            "tags": []
          }
        },
        {
          "output_type": "stream",
          "text": [
            "Mean Absolute Error: 0.06661580258292249\n",
            "Mean Squared Error: 0.012314281300573153\n",
            "Root Mean Squared Error: 0.11096973146121042\n",
            "Comparision of Models ....\n",
            "\n",
            "\n",
            " Model Name \t\t\t MSE_REG \n",
            "\n",
            "Bayes               \t\t 0.01239\t\t0.42170\n",
            "\n",
            "LinearRegression    \t\t 0.01511\t\t0.29514\n",
            "\n",
            "Ridge               \t\t 0.01329\t\t0.37996\n",
            "\n",
            "ElasticNet          \t\t 0.01231\t\t0.42538\n",
            "\n"
          ],
          "name": "stdout"
        }
      ]
    },
    {
      "cell_type": "code",
      "metadata": {
        "id": "Y0Li6XrwxJ1L",
        "colab_type": "code",
        "outputId": "4a4e69c8-cb7d-46c3-b5e2-5b3b6bcd085e",
        "colab": {
          "base_uri": "https://localhost:8080/",
          "height": 35
        }
      },
      "source": [
        "print(y_test[31:35])"
      ],
      "execution_count": 0,
      "outputs": [
        {
          "output_type": "stream",
          "text": [
            "[0.1799668  0.16704444 0.00665629 0.15470278]\n"
          ],
          "name": "stdout"
        }
      ]
    },
    {
      "cell_type": "code",
      "metadata": {
        "id": "23lFJpTAxV_J",
        "colab_type": "code",
        "outputId": "242226f9-904d-4d07-9551-4e8f055127b0",
        "colab": {
          "base_uri": "https://localhost:8080/",
          "height": 35
        }
      },
      "source": [
        "regr_dict['LinearRegression'].predict(X_test[31:35])"
      ],
      "execution_count": 0,
      "outputs": [
        {
          "output_type": "execute_result",
          "data": {
            "text/plain": [
              "array([0.19856534, 0.12747546, 0.02286176, 0.11705124])"
            ]
          },
          "metadata": {
            "tags": []
          },
          "execution_count": 52
        }
      ]
    },
    {
      "cell_type": "code",
      "metadata": {
        "id": "L04Y2CtmKyfM",
        "colab_type": "code",
        "outputId": "f4db8491-df92-4d22-9540-24f20bf1b21d",
        "colab": {
          "base_uri": "https://localhost:8080/",
          "height": 35
        }
      },
      "source": [
        "regr_dict['Bayes'].predict(X_test[31:35])"
      ],
      "execution_count": 0,
      "outputs": [
        {
          "output_type": "execute_result",
          "data": {
            "text/plain": [
              "array([0.19006085, 0.12131227, 0.02413803, 0.11847513])"
            ]
          },
          "metadata": {
            "tags": []
          },
          "execution_count": 53
        }
      ]
    },
    {
      "cell_type": "code",
      "metadata": {
        "id": "KcCtIIetKzcL",
        "colab_type": "code",
        "outputId": "415ddff8-090b-463f-8f66-becae10e50ce",
        "colab": {
          "base_uri": "https://localhost:8080/",
          "height": 35
        }
      },
      "source": [
        "regr_dict['Ridge'].predict(X_test[31:35])"
      ],
      "execution_count": 0,
      "outputs": [
        {
          "output_type": "execute_result",
          "data": {
            "text/plain": [
              "array([0.15432589, 0.11791756, 0.02529318, 0.12796064])"
            ]
          },
          "metadata": {
            "tags": []
          },
          "execution_count": 54
        }
      ]
    },
    {
      "cell_type": "code",
      "metadata": {
        "id": "omL1DuVCKz8i",
        "colab_type": "code",
        "outputId": "e4bf2792-fb80-4e99-b996-c436be35008c",
        "colab": {
          "base_uri": "https://localhost:8080/",
          "height": 35
        }
      },
      "source": [
        "regr_dict['ElasticNet'].predict(X_test[31:35])"
      ],
      "execution_count": 0,
      "outputs": [
        {
          "output_type": "execute_result",
          "data": {
            "text/plain": [
              "array([0.16284297, 0.11841211, 0.02391849, 0.12185372])"
            ]
          },
          "metadata": {
            "tags": []
          },
          "execution_count": 55
        }
      ]
    }
  ]
}
